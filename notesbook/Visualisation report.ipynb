{
 "cells": [
  {
   "cell_type": "code",
   "execution_count": 63,
   "metadata": {},
   "outputs": [],
   "source": [
    "# Visualisation report\n",
    "# Import Packages\n",
    "\n",
    "import pandas as pd\n",
    "from pathlib import Path\n",
    "import altair as alt\n",
    "\n",
    "import sys\n",
    "import os\n",
    "\n",
    "# Add the src directory to the Python path\n",
    "sys.path.append(os.path.abspath('../src'))\n",
    "from altair_plots import *\n",
    "from eda_univariate import *  # for combining test and train"
   ]
  },
  {
   "cell_type": "code",
   "execution_count": 64,
   "metadata": {},
   "outputs": [],
   "source": [
    "# PATHS\n",
    "DATA_PATH = Path(\"../data\")\n",
    "TRAIN_PATH = DATA_PATH / \"train.csv\"\n",
    "TEST_PATH = DATA_PATH / \"test.csv\"\n",
    "\n",
    "# Color palette\n",
    "color_list = [\"#A5D7E8\", \"#576CBC\", \"#19376D\", \"#0b2447\"]\n",
    "\n",
    "# Load the data\n",
    "train_df = pd.read_csv(TRAIN_PATH)\n",
    "test_df = pd.read_csv(TEST_PATH)\n",
    "all_df = combine_train_test(train_df, test_df)"
   ]
  },
  {
   "cell_type": "markdown",
   "metadata": {},
   "source": [
    "# Report\n",
    "\n",
    "## Methodology \n",
    "\n",
    "The purpose of this report is to augment the findings of the most important visualisations in the original Titanic analysis.\n",
    "In particular, the original analysis found that Sex, Pclass, and Family Size were associated with differing survival rates.\n",
    "To improve upon this analysis, I will consider whether there is a case to add interaction terms to a predictive model which account for joint effects between the features."
   ]
  },
  {
   "cell_type": "markdown",
   "metadata": {},
   "source": [
    "## Pclass and Sex\n",
    "\n",
    "This visualisation plots the survival count on the y axis versus the passenger class on the x axis. The facet aspect of the chart splits the dataset between female and male passengers. This allows for easy analysis on whether gender impacts liklihood to survive given cabin class."
   ]
  },
  {
   "cell_type": "code",
   "execution_count": 68,
   "metadata": {},
   "outputs": [
    {
     "data": {
      "text/html": [
       "\n",
       "<style>\n",
       "  #altair-viz-0874fe2d51494e53a0425a5adbf4fbf9.vega-embed {\n",
       "    width: 100%;\n",
       "    display: flex;\n",
       "  }\n",
       "\n",
       "  #altair-viz-0874fe2d51494e53a0425a5adbf4fbf9.vega-embed details,\n",
       "  #altair-viz-0874fe2d51494e53a0425a5adbf4fbf9.vega-embed details summary {\n",
       "    position: relative;\n",
       "  }\n",
       "</style>\n",
       "<div id=\"altair-viz-0874fe2d51494e53a0425a5adbf4fbf9\"></div>\n",
       "<script type=\"text/javascript\">\n",
       "  var VEGA_DEBUG = (typeof VEGA_DEBUG == \"undefined\") ? {} : VEGA_DEBUG;\n",
       "  (function(spec, embedOpt){\n",
       "    let outputDiv = document.currentScript.previousElementSibling;\n",
       "    if (outputDiv.id !== \"altair-viz-0874fe2d51494e53a0425a5adbf4fbf9\") {\n",
       "      outputDiv = document.getElementById(\"altair-viz-0874fe2d51494e53a0425a5adbf4fbf9\");\n",
       "    }\n",
       "    const paths = {\n",
       "      \"vega\": \"https://cdn.jsdelivr.net/npm/vega@5?noext\",\n",
       "      \"vega-lib\": \"https://cdn.jsdelivr.net/npm/vega-lib?noext\",\n",
       "      \"vega-lite\": \"https://cdn.jsdelivr.net/npm/vega-lite@5.20.1?noext\",\n",
       "      \"vega-embed\": \"https://cdn.jsdelivr.net/npm/vega-embed@6?noext\",\n",
       "    };\n",
       "\n",
       "    function maybeLoadScript(lib, version) {\n",
       "      var key = `${lib.replace(\"-\", \"\")}_version`;\n",
       "      return (VEGA_DEBUG[key] == version) ?\n",
       "        Promise.resolve(paths[lib]) :\n",
       "        new Promise(function(resolve, reject) {\n",
       "          var s = document.createElement('script');\n",
       "          document.getElementsByTagName(\"head\")[0].appendChild(s);\n",
       "          s.async = true;\n",
       "          s.onload = () => {\n",
       "            VEGA_DEBUG[key] = version;\n",
       "            return resolve(paths[lib]);\n",
       "          };\n",
       "          s.onerror = () => reject(`Error loading script: ${paths[lib]}`);\n",
       "          s.src = paths[lib];\n",
       "        });\n",
       "    }\n",
       "\n",
       "    function showError(err) {\n",
       "      outputDiv.innerHTML = `<div class=\"error\" style=\"color:red;\">${err}</div>`;\n",
       "      throw err;\n",
       "    }\n",
       "\n",
       "    function displayChart(vegaEmbed) {\n",
       "      vegaEmbed(outputDiv, spec, embedOpt)\n",
       "        .catch(err => showError(`Javascript Error: ${err.message}<br>This usually means there's a typo in your chart specification. See the javascript console for the full traceback.`));\n",
       "    }\n",
       "\n",
       "    if(typeof define === \"function\" && define.amd) {\n",
       "      requirejs.config({paths});\n",
       "      require([\"vega-embed\"], displayChart, err => showError(`Error loading script: ${err.message}`));\n",
       "    } else {\n",
       "      maybeLoadScript(\"vega\", \"5\")\n",
       "        .then(() => maybeLoadScript(\"vega-lite\", \"5.20.1\"))\n",
       "        .then(() => maybeLoadScript(\"vega-embed\", \"6\"))\n",
       "        .catch(showError)\n",
       "        .then(() => displayChart(vegaEmbed));\n",
       "    }\n",
       "  })({\"config\": {\"view\": {\"continuousWidth\": 300, \"continuousHeight\": 300}}, \"data\": {\"name\": \"data-0885a0cb996b6ce29ffbab008237a381\"}, \"mark\": {\"type\": \"bar\"}, \"encoding\": {\"color\": {\"field\": \"Survived\", \"scale\": {\"range\": [\"#A5D7E8\", \"#576CBC\", \"#19376D\", \"#0b2447\"]}, \"type\": \"nominal\"}, \"column\": {\"field\": \"Sex\", \"title\": \"Sex\", \"type\": \"nominal\"}, \"x\": {\"field\": \"Pclass\", \"title\": \"Pclass\", \"type\": \"nominal\"}, \"y\": {\"aggregate\": \"count\", \"title\": \"Count\", \"type\": \"quantitative\"}}, \"title\": \"Survival Rate by Pclass and Sex\", \"$schema\": \"https://vega.github.io/schema/vega-lite/v5.20.1.json\", \"datasets\": {\"data-0885a0cb996b6ce29ffbab008237a381\": [{\"Pclass\": 3, \"Survived\": 0.0, \"Sex\": \"male\"}, {\"Pclass\": 1, \"Survived\": 1.0, \"Sex\": \"female\"}, {\"Pclass\": 3, \"Survived\": 1.0, \"Sex\": \"female\"}, {\"Pclass\": 1, \"Survived\": 1.0, \"Sex\": \"female\"}, {\"Pclass\": 3, \"Survived\": 0.0, \"Sex\": \"male\"}, {\"Pclass\": 3, \"Survived\": 0.0, \"Sex\": \"male\"}, {\"Pclass\": 1, \"Survived\": 0.0, \"Sex\": \"male\"}, {\"Pclass\": 3, \"Survived\": 0.0, \"Sex\": \"male\"}, {\"Pclass\": 3, \"Survived\": 1.0, \"Sex\": \"female\"}, {\"Pclass\": 2, \"Survived\": 1.0, \"Sex\": \"female\"}, {\"Pclass\": 3, \"Survived\": 1.0, \"Sex\": \"female\"}, {\"Pclass\": 1, \"Survived\": 1.0, \"Sex\": \"female\"}, {\"Pclass\": 3, \"Survived\": 0.0, \"Sex\": \"male\"}, {\"Pclass\": 3, \"Survived\": 0.0, \"Sex\": \"male\"}, {\"Pclass\": 3, \"Survived\": 0.0, \"Sex\": \"female\"}, {\"Pclass\": 2, \"Survived\": 1.0, \"Sex\": \"female\"}, {\"Pclass\": 3, \"Survived\": 0.0, \"Sex\": \"male\"}, {\"Pclass\": 2, \"Survived\": 1.0, \"Sex\": \"male\"}, {\"Pclass\": 3, \"Survived\": 0.0, \"Sex\": \"female\"}, {\"Pclass\": 3, \"Survived\": 1.0, \"Sex\": \"female\"}, {\"Pclass\": 2, \"Survived\": 0.0, \"Sex\": \"male\"}, {\"Pclass\": 2, \"Survived\": 1.0, \"Sex\": \"male\"}, {\"Pclass\": 3, \"Survived\": 1.0, \"Sex\": \"female\"}, {\"Pclass\": 1, \"Survived\": 1.0, \"Sex\": \"male\"}, {\"Pclass\": 3, \"Survived\": 0.0, \"Sex\": \"female\"}, {\"Pclass\": 3, \"Survived\": 1.0, \"Sex\": \"female\"}, {\"Pclass\": 3, \"Survived\": 0.0, \"Sex\": \"male\"}, {\"Pclass\": 1, \"Survived\": 0.0, \"Sex\": \"male\"}, {\"Pclass\": 3, \"Survived\": 1.0, \"Sex\": \"female\"}, {\"Pclass\": 3, \"Survived\": 0.0, \"Sex\": \"male\"}, {\"Pclass\": 1, \"Survived\": 0.0, \"Sex\": \"male\"}, {\"Pclass\": 1, \"Survived\": 1.0, \"Sex\": \"female\"}, {\"Pclass\": 3, \"Survived\": 1.0, \"Sex\": \"female\"}, {\"Pclass\": 2, \"Survived\": 0.0, \"Sex\": \"male\"}, {\"Pclass\": 1, \"Survived\": 0.0, \"Sex\": \"male\"}, {\"Pclass\": 1, \"Survived\": 0.0, \"Sex\": \"male\"}, {\"Pclass\": 3, \"Survived\": 1.0, \"Sex\": \"male\"}, {\"Pclass\": 3, \"Survived\": 0.0, \"Sex\": \"male\"}, {\"Pclass\": 3, \"Survived\": 0.0, \"Sex\": \"female\"}, {\"Pclass\": 3, \"Survived\": 1.0, \"Sex\": \"female\"}, {\"Pclass\": 3, \"Survived\": 0.0, \"Sex\": \"female\"}, {\"Pclass\": 2, \"Survived\": 0.0, \"Sex\": \"female\"}, {\"Pclass\": 3, \"Survived\": 0.0, \"Sex\": \"male\"}, {\"Pclass\": 2, \"Survived\": 1.0, \"Sex\": \"female\"}, {\"Pclass\": 3, \"Survived\": 1.0, \"Sex\": \"female\"}, {\"Pclass\": 3, \"Survived\": 0.0, \"Sex\": \"male\"}, {\"Pclass\": 3, \"Survived\": 0.0, \"Sex\": \"male\"}, {\"Pclass\": 3, \"Survived\": 1.0, \"Sex\": \"female\"}, {\"Pclass\": 3, \"Survived\": 0.0, \"Sex\": \"male\"}, {\"Pclass\": 3, \"Survived\": 0.0, \"Sex\": \"female\"}, {\"Pclass\": 3, \"Survived\": 0.0, \"Sex\": \"male\"}, {\"Pclass\": 3, \"Survived\": 0.0, \"Sex\": \"male\"}, {\"Pclass\": 1, \"Survived\": 1.0, \"Sex\": \"female\"}, {\"Pclass\": 2, \"Survived\": 1.0, \"Sex\": \"female\"}, {\"Pclass\": 1, \"Survived\": 0.0, \"Sex\": \"male\"}, {\"Pclass\": 1, \"Survived\": 1.0, \"Sex\": \"male\"}, {\"Pclass\": 2, \"Survived\": 1.0, \"Sex\": \"female\"}, {\"Pclass\": 3, \"Survived\": 0.0, \"Sex\": \"male\"}, {\"Pclass\": 2, \"Survived\": 1.0, \"Sex\": \"female\"}, {\"Pclass\": 3, \"Survived\": 0.0, \"Sex\": \"male\"}, {\"Pclass\": 3, \"Survived\": 0.0, \"Sex\": \"male\"}, {\"Pclass\": 1, \"Survived\": 1.0, \"Sex\": \"female\"}, {\"Pclass\": 1, \"Survived\": 0.0, \"Sex\": \"male\"}, {\"Pclass\": 3, \"Survived\": 0.0, \"Sex\": \"male\"}, {\"Pclass\": 1, \"Survived\": 0.0, \"Sex\": \"male\"}, {\"Pclass\": 3, \"Survived\": 1.0, \"Sex\": \"male\"}, {\"Pclass\": 2, \"Survived\": 1.0, \"Sex\": \"female\"}, {\"Pclass\": 3, \"Survived\": 0.0, \"Sex\": \"male\"}, {\"Pclass\": 3, \"Survived\": 1.0, \"Sex\": \"female\"}, {\"Pclass\": 3, \"Survived\": 0.0, \"Sex\": \"male\"}, {\"Pclass\": 2, \"Survived\": 0.0, \"Sex\": \"male\"}, {\"Pclass\": 3, \"Survived\": 0.0, \"Sex\": \"female\"}, {\"Pclass\": 2, \"Survived\": 0.0, \"Sex\": \"male\"}, {\"Pclass\": 3, \"Survived\": 0.0, \"Sex\": \"male\"}, {\"Pclass\": 3, \"Survived\": 1.0, \"Sex\": \"male\"}, {\"Pclass\": 3, \"Survived\": 0.0, \"Sex\": \"male\"}, {\"Pclass\": 3, \"Survived\": 0.0, \"Sex\": \"male\"}, {\"Pclass\": 3, \"Survived\": 0.0, \"Sex\": \"male\"}, {\"Pclass\": 2, \"Survived\": 1.0, \"Sex\": \"male\"}, {\"Pclass\": 3, \"Survived\": 1.0, \"Sex\": \"female\"}, {\"Pclass\": 3, \"Survived\": 0.0, \"Sex\": \"male\"}, {\"Pclass\": 3, \"Survived\": 1.0, \"Sex\": \"male\"}, {\"Pclass\": 3, \"Survived\": 1.0, \"Sex\": \"female\"}, {\"Pclass\": 1, \"Survived\": 0.0, \"Sex\": \"male\"}, {\"Pclass\": 2, \"Survived\": 1.0, \"Sex\": \"female\"}, {\"Pclass\": 3, \"Survived\": 1.0, \"Sex\": \"female\"}, {\"Pclass\": 3, \"Survived\": 0.0, \"Sex\": \"male\"}, {\"Pclass\": 3, \"Survived\": 0.0, \"Sex\": \"male\"}, {\"Pclass\": 1, \"Survived\": 1.0, \"Sex\": \"female\"}, {\"Pclass\": 3, \"Survived\": 0.0, \"Sex\": \"male\"}, {\"Pclass\": 3, \"Survived\": 0.0, \"Sex\": \"male\"}, {\"Pclass\": 3, \"Survived\": 0.0, \"Sex\": \"male\"}, {\"Pclass\": 1, \"Survived\": 0.0, \"Sex\": \"male\"}, {\"Pclass\": 3, \"Survived\": 0.0, \"Sex\": \"male\"}, {\"Pclass\": 3, \"Survived\": 0.0, \"Sex\": \"male\"}, {\"Pclass\": 3, \"Survived\": 0.0, \"Sex\": \"male\"}, {\"Pclass\": 1, \"Survived\": 0.0, \"Sex\": \"male\"}, {\"Pclass\": 1, \"Survived\": 1.0, \"Sex\": \"male\"}, {\"Pclass\": 2, \"Survived\": 1.0, \"Sex\": \"female\"}, {\"Pclass\": 2, \"Survived\": 0.0, \"Sex\": \"male\"}, {\"Pclass\": 3, \"Survived\": 0.0, \"Sex\": \"female\"}, {\"Pclass\": 3, \"Survived\": 0.0, \"Sex\": \"male\"}, {\"Pclass\": 1, \"Survived\": 0.0, \"Sex\": \"male\"}, {\"Pclass\": 3, \"Survived\": 0.0, \"Sex\": \"male\"}, {\"Pclass\": 3, \"Survived\": 0.0, \"Sex\": \"male\"}, {\"Pclass\": 3, \"Survived\": 0.0, \"Sex\": \"male\"}, {\"Pclass\": 3, \"Survived\": 1.0, \"Sex\": \"female\"}, {\"Pclass\": 3, \"Survived\": 1.0, \"Sex\": \"male\"}, {\"Pclass\": 3, \"Survived\": 0.0, \"Sex\": \"male\"}, {\"Pclass\": 3, \"Survived\": 1.0, \"Sex\": \"female\"}, {\"Pclass\": 1, \"Survived\": 0.0, \"Sex\": \"male\"}, {\"Pclass\": 3, \"Survived\": 0.0, \"Sex\": \"female\"}, {\"Pclass\": 3, \"Survived\": 0.0, \"Sex\": \"male\"}, {\"Pclass\": 3, \"Survived\": 0.0, \"Sex\": \"female\"}, {\"Pclass\": 3, \"Survived\": 0.0, \"Sex\": \"female\"}, {\"Pclass\": 3, \"Survived\": 0.0, \"Sex\": \"male\"}, {\"Pclass\": 3, \"Survived\": 0.0, \"Sex\": \"male\"}, {\"Pclass\": 2, \"Survived\": 0.0, \"Sex\": \"male\"}, {\"Pclass\": 1, \"Survived\": 0.0, \"Sex\": \"male\"}, {\"Pclass\": 3, \"Survived\": 0.0, \"Sex\": \"female\"}, {\"Pclass\": 2, \"Survived\": 0.0, \"Sex\": \"male\"}, {\"Pclass\": 3, \"Survived\": 0.0, \"Sex\": \"male\"}, {\"Pclass\": 2, \"Survived\": 0.0, \"Sex\": \"male\"}, {\"Pclass\": 2, \"Survived\": 1.0, \"Sex\": \"female\"}, {\"Pclass\": 1, \"Survived\": 0.0, \"Sex\": \"male\"}, {\"Pclass\": 3, \"Survived\": 1.0, \"Sex\": \"male\"}, {\"Pclass\": 3, \"Survived\": 0.0, \"Sex\": \"male\"}, {\"Pclass\": 3, \"Survived\": 1.0, \"Sex\": \"male\"}, {\"Pclass\": 3, \"Survived\": 1.0, \"Sex\": \"female\"}, {\"Pclass\": 3, \"Survived\": 0.0, \"Sex\": \"male\"}, {\"Pclass\": 3, \"Survived\": 0.0, \"Sex\": \"male\"}, {\"Pclass\": 3, \"Survived\": 0.0, \"Sex\": \"male\"}, {\"Pclass\": 3, \"Survived\": 0.0, \"Sex\": \"female\"}, {\"Pclass\": 2, \"Survived\": 1.0, \"Sex\": \"female\"}, {\"Pclass\": 2, \"Survived\": 0.0, \"Sex\": \"male\"}, {\"Pclass\": 2, \"Survived\": 0.0, \"Sex\": \"male\"}, {\"Pclass\": 1, \"Survived\": 1.0, \"Sex\": \"female\"}, {\"Pclass\": 1, \"Survived\": 0.0, \"Sex\": \"male\"}, {\"Pclass\": 3, \"Survived\": 0.0, \"Sex\": \"male\"}, {\"Pclass\": 1, \"Survived\": 0.0, \"Sex\": \"male\"}, {\"Pclass\": 3, \"Survived\": 0.0, \"Sex\": \"female\"}, {\"Pclass\": 3, \"Survived\": 1.0, \"Sex\": \"female\"}, {\"Pclass\": 3, \"Survived\": 1.0, \"Sex\": \"female\"}, {\"Pclass\": 3, \"Survived\": 0.0, \"Sex\": \"male\"}, {\"Pclass\": 2, \"Survived\": 0.0, \"Sex\": \"male\"}, {\"Pclass\": 2, \"Survived\": 0.0, \"Sex\": \"male\"}, {\"Pclass\": 3, \"Survived\": 1.0, \"Sex\": \"male\"}, {\"Pclass\": 3, \"Survived\": 0.0, \"Sex\": \"female\"}, {\"Pclass\": 2, \"Survived\": 0.0, \"Sex\": \"male\"}, {\"Pclass\": 2, \"Survived\": 0.0, \"Sex\": \"male\"}, {\"Pclass\": 2, \"Survived\": 0.0, \"Sex\": \"male\"}, {\"Pclass\": 1, \"Survived\": 1.0, \"Sex\": \"female\"}, {\"Pclass\": 3, \"Survived\": 0.0, \"Sex\": \"male\"}, {\"Pclass\": 3, \"Survived\": 0.0, \"Sex\": \"male\"}, {\"Pclass\": 3, \"Survived\": 0.0, \"Sex\": \"male\"}, {\"Pclass\": 1, \"Survived\": 0.0, \"Sex\": \"male\"}, {\"Pclass\": 3, \"Survived\": 1.0, \"Sex\": \"female\"}, {\"Pclass\": 3, \"Survived\": 0.0, \"Sex\": \"male\"}, {\"Pclass\": 3, \"Survived\": 0.0, \"Sex\": \"male\"}, {\"Pclass\": 3, \"Survived\": 0.0, \"Sex\": \"male\"}, {\"Pclass\": 3, \"Survived\": 0.0, \"Sex\": \"male\"}, {\"Pclass\": 2, \"Survived\": 1.0, \"Sex\": \"female\"}, {\"Pclass\": 3, \"Survived\": 0.0, \"Sex\": \"male\"}, {\"Pclass\": 3, \"Survived\": 0.0, \"Sex\": \"male\"}, {\"Pclass\": 3, \"Survived\": 0.0, \"Sex\": \"male\"}, {\"Pclass\": 3, \"Survived\": 1.0, \"Sex\": \"male\"}, {\"Pclass\": 1, \"Survived\": 1.0, \"Sex\": \"female\"}, {\"Pclass\": 3, \"Survived\": 0.0, \"Sex\": \"female\"}, {\"Pclass\": 1, \"Survived\": 0.0, \"Sex\": \"male\"}, {\"Pclass\": 3, \"Survived\": 0.0, \"Sex\": \"male\"}, {\"Pclass\": 1, \"Survived\": 0.0, \"Sex\": \"male\"}, {\"Pclass\": 3, \"Survived\": 0.0, \"Sex\": \"male\"}, {\"Pclass\": 3, \"Survived\": 1.0, \"Sex\": \"female\"}, {\"Pclass\": 3, \"Survived\": 0.0, \"Sex\": \"male\"}, {\"Pclass\": 1, \"Survived\": 0.0, \"Sex\": \"male\"}, {\"Pclass\": 3, \"Survived\": 0.0, \"Sex\": \"male\"}, {\"Pclass\": 3, \"Survived\": 0.0, \"Sex\": \"male\"}, {\"Pclass\": 1, \"Survived\": 0.0, \"Sex\": \"female\"}, {\"Pclass\": 2, \"Survived\": 0.0, \"Sex\": \"male\"}, {\"Pclass\": 3, \"Survived\": 0.0, \"Sex\": \"male\"}, {\"Pclass\": 3, \"Survived\": 0.0, \"Sex\": \"female\"}, {\"Pclass\": 2, \"Survived\": 0.0, \"Sex\": \"male\"}, {\"Pclass\": 3, \"Survived\": 0.0, \"Sex\": \"male\"}, {\"Pclass\": 2, \"Survived\": 1.0, \"Sex\": \"male\"}, {\"Pclass\": 3, \"Survived\": 1.0, \"Sex\": \"female\"}, {\"Pclass\": 1, \"Survived\": 0.0, \"Sex\": \"male\"}, {\"Pclass\": 3, \"Survived\": 1.0, \"Sex\": \"female\"}, {\"Pclass\": 1, \"Survived\": 1.0, \"Sex\": \"male\"}, {\"Pclass\": 3, \"Survived\": 0.0, \"Sex\": \"male\"}, {\"Pclass\": 3, \"Survived\": 0.0, \"Sex\": \"male\"}, {\"Pclass\": 2, \"Survived\": 1.0, \"Sex\": \"female\"}, {\"Pclass\": 2, \"Survived\": 0.0, \"Sex\": \"male\"}, {\"Pclass\": 3, \"Survived\": 1.0, \"Sex\": \"female\"}, {\"Pclass\": 2, \"Survived\": 1.0, \"Sex\": \"male\"}, {\"Pclass\": 1, \"Survived\": 1.0, \"Sex\": \"female\"}, {\"Pclass\": 1, \"Survived\": 1.0, \"Sex\": \"female\"}, {\"Pclass\": 3, \"Survived\": 0.0, \"Sex\": \"male\"}, {\"Pclass\": 3, \"Survived\": 0.0, \"Sex\": \"male\"}, {\"Pclass\": 3, \"Survived\": 1.0, \"Sex\": \"female\"}, {\"Pclass\": 2, \"Survived\": 0.0, \"Sex\": \"female\"}, {\"Pclass\": 3, \"Survived\": 0.0, \"Sex\": \"male\"}, {\"Pclass\": 3, \"Survived\": 0.0, \"Sex\": \"male\"}, {\"Pclass\": 3, \"Survived\": 0.0, \"Sex\": \"male\"}, {\"Pclass\": 3, \"Survived\": 0.0, \"Sex\": \"male\"}, {\"Pclass\": 3, \"Survived\": 1.0, \"Sex\": \"male\"}, {\"Pclass\": 3, \"Survived\": 0.0, \"Sex\": \"female\"}, {\"Pclass\": 3, \"Survived\": 0.0, \"Sex\": \"male\"}, {\"Pclass\": 3, \"Survived\": 1.0, \"Sex\": \"male\"}, {\"Pclass\": 3, \"Survived\": 1.0, \"Sex\": \"female\"}, {\"Pclass\": 1, \"Survived\": 1.0, \"Sex\": \"male\"}, {\"Pclass\": 3, \"Survived\": 0.0, \"Sex\": \"male\"}, {\"Pclass\": 2, \"Survived\": 1.0, \"Sex\": \"female\"}, {\"Pclass\": 3, \"Survived\": 0.0, \"Sex\": \"male\"}, {\"Pclass\": 2, \"Survived\": 0.0, \"Sex\": \"male\"}, {\"Pclass\": 3, \"Survived\": 0.0, \"Sex\": \"male\"}, {\"Pclass\": 1, \"Survived\": 1.0, \"Sex\": \"female\"}, {\"Pclass\": 3, \"Survived\": 1.0, \"Sex\": \"female\"}, {\"Pclass\": 2, \"Survived\": 0.0, \"Sex\": \"male\"}, {\"Pclass\": 1, \"Survived\": 1.0, \"Sex\": \"female\"}, {\"Pclass\": 2, \"Survived\": 0.0, \"Sex\": \"male\"}, {\"Pclass\": 3, \"Survived\": 1.0, \"Sex\": \"male\"}, {\"Pclass\": 2, \"Survived\": 0.0, \"Sex\": \"male\"}, {\"Pclass\": 3, \"Survived\": 0.0, \"Sex\": \"male\"}, {\"Pclass\": 3, \"Survived\": 0.0, \"Sex\": \"male\"}, {\"Pclass\": 1, \"Survived\": 1.0, \"Sex\": \"male\"}, {\"Pclass\": 3, \"Survived\": 0.0, \"Sex\": \"male\"}, {\"Pclass\": 2, \"Survived\": 1.0, \"Sex\": \"male\"}, {\"Pclass\": 3, \"Survived\": 0.0, \"Sex\": \"male\"}, {\"Pclass\": 2, \"Survived\": 0.0, \"Sex\": \"male\"}, {\"Pclass\": 3, \"Survived\": 0.0, \"Sex\": \"female\"}, {\"Pclass\": 1, \"Survived\": 1.0, \"Sex\": \"female\"}, {\"Pclass\": 3, \"Survived\": 0.0, \"Sex\": \"male\"}, {\"Pclass\": 2, \"Survived\": 0.0, \"Sex\": \"male\"}, {\"Pclass\": 3, \"Survived\": 1.0, \"Sex\": \"female\"}, {\"Pclass\": 2, \"Survived\": 0.0, \"Sex\": \"male\"}, {\"Pclass\": 3, \"Survived\": 0.0, \"Sex\": \"female\"}, {\"Pclass\": 2, \"Survived\": 0.0, \"Sex\": \"male\"}, {\"Pclass\": 2, \"Survived\": 1.0, \"Sex\": \"female\"}, {\"Pclass\": 2, \"Survived\": 0.0, \"Sex\": \"male\"}, {\"Pclass\": 2, \"Survived\": 0.0, \"Sex\": \"male\"}, {\"Pclass\": 3, \"Survived\": 0.0, \"Sex\": \"female\"}, {\"Pclass\": 3, \"Survived\": 1.0, \"Sex\": \"female\"}, {\"Pclass\": 2, \"Survived\": 0.0, \"Sex\": \"male\"}, {\"Pclass\": 3, \"Survived\": 0.0, \"Sex\": \"male\"}, {\"Pclass\": 3, \"Survived\": 0.0, \"Sex\": \"male\"}, {\"Pclass\": 1, \"Survived\": 0.0, \"Sex\": \"male\"}, {\"Pclass\": 3, \"Survived\": 0.0, \"Sex\": \"female\"}, {\"Pclass\": 2, \"Survived\": 1.0, \"Sex\": \"female\"}, {\"Pclass\": 1, \"Survived\": 1.0, \"Sex\": \"male\"}, {\"Pclass\": 2, \"Survived\": 0.0, \"Sex\": \"male\"}, {\"Pclass\": 3, \"Survived\": 0.0, \"Sex\": \"male\"}, {\"Pclass\": 3, \"Survived\": 0.0, \"Sex\": \"female\"}, {\"Pclass\": 1, \"Survived\": 0.0, \"Sex\": \"male\"}, {\"Pclass\": 3, \"Survived\": 0.0, \"Sex\": \"male\"}, {\"Pclass\": 3, \"Survived\": 0.0, \"Sex\": \"female\"}, {\"Pclass\": 3, \"Survived\": 1.0, \"Sex\": \"female\"}, {\"Pclass\": 1, \"Survived\": 1.0, \"Sex\": \"female\"}, {\"Pclass\": 1, \"Survived\": 1.0, \"Sex\": \"female\"}, {\"Pclass\": 1, \"Survived\": 1.0, \"Sex\": \"female\"}, {\"Pclass\": 2, \"Survived\": 1.0, \"Sex\": \"female\"}, {\"Pclass\": 3, \"Survived\": 0.0, \"Sex\": \"male\"}, {\"Pclass\": 3, \"Survived\": 1.0, \"Sex\": \"male\"}, {\"Pclass\": 1, \"Survived\": 0.0, \"Sex\": \"male\"}, {\"Pclass\": 1, \"Survived\": 0.0, \"Sex\": \"male\"}, {\"Pclass\": 3, \"Survived\": 0.0, \"Sex\": \"female\"}, {\"Pclass\": 2, \"Survived\": 0.0, \"Sex\": \"male\"}, {\"Pclass\": 3, \"Survived\": 0.0, \"Sex\": \"male\"}, {\"Pclass\": 3, \"Survived\": 1.0, \"Sex\": \"male\"}, {\"Pclass\": 1, \"Survived\": 1.0, \"Sex\": \"female\"}, {\"Pclass\": 1, \"Survived\": 1.0, \"Sex\": \"female\"}, {\"Pclass\": 1, \"Survived\": 0.0, \"Sex\": \"male\"}, {\"Pclass\": 3, \"Survived\": 1.0, \"Sex\": \"male\"}, {\"Pclass\": 2, \"Survived\": 1.0, \"Sex\": \"female\"}, {\"Pclass\": 1, \"Survived\": 0.0, \"Sex\": \"male\"}, {\"Pclass\": 3, \"Survived\": 1.0, \"Sex\": \"female\"}, {\"Pclass\": 1, \"Survived\": 1.0, \"Sex\": \"female\"}, {\"Pclass\": 3, \"Survived\": 0.0, \"Sex\": \"female\"}, {\"Pclass\": 2, \"Survived\": 0.0, \"Sex\": \"male\"}, {\"Pclass\": 3, \"Survived\": 0.0, \"Sex\": \"male\"}, {\"Pclass\": 3, \"Survived\": 1.0, \"Sex\": \"female\"}, {\"Pclass\": 3, \"Survived\": 0.0, \"Sex\": \"male\"}, {\"Pclass\": 3, \"Survived\": 0.0, \"Sex\": \"male\"}, {\"Pclass\": 3, \"Survived\": 0.0, \"Sex\": \"male\"}, {\"Pclass\": 3, \"Survived\": 1.0, \"Sex\": \"male\"}, {\"Pclass\": 1, \"Survived\": 0.0, \"Sex\": \"male\"}, {\"Pclass\": 3, \"Survived\": 0.0, \"Sex\": \"male\"}, {\"Pclass\": 3, \"Survived\": 1.0, \"Sex\": \"male\"}, {\"Pclass\": 3, \"Survived\": 0.0, \"Sex\": \"male\"}, {\"Pclass\": 2, \"Survived\": 1.0, \"Sex\": \"male\"}, {\"Pclass\": 3, \"Survived\": 1.0, \"Sex\": \"female\"}, {\"Pclass\": 1, \"Survived\": 1.0, \"Sex\": \"female\"}, {\"Pclass\": 1, \"Survived\": 1.0, \"Sex\": \"female\"}, {\"Pclass\": 2, \"Survived\": 0.0, \"Sex\": \"male\"}, {\"Pclass\": 3, \"Survived\": 0.0, \"Sex\": \"female\"}, {\"Pclass\": 3, \"Survived\": 0.0, \"Sex\": \"male\"}, {\"Pclass\": 1, \"Survived\": 0.0, \"Sex\": \"male\"}, {\"Pclass\": 3, \"Survived\": 0.0, \"Sex\": \"male\"}, {\"Pclass\": 1, \"Survived\": 0.0, \"Sex\": \"female\"}, {\"Pclass\": 1, \"Survived\": 1.0, \"Sex\": \"male\"}, {\"Pclass\": 1, \"Survived\": 1.0, \"Sex\": \"female\"}, {\"Pclass\": 3, \"Survived\": 1.0, \"Sex\": \"female\"}, {\"Pclass\": 3, \"Survived\": 1.0, \"Sex\": \"male\"}, {\"Pclass\": 3, \"Survived\": 0.0, \"Sex\": \"male\"}, {\"Pclass\": 2, \"Survived\": 1.0, \"Sex\": \"female\"}, {\"Pclass\": 3, \"Survived\": 0.0, \"Sex\": \"male\"}, {\"Pclass\": 1, \"Survived\": 1.0, \"Sex\": \"male\"}, {\"Pclass\": 1, \"Survived\": 1.0, \"Sex\": \"female\"}, {\"Pclass\": 1, \"Survived\": 1.0, \"Sex\": \"female\"}, {\"Pclass\": 2, \"Survived\": 0.0, \"Sex\": \"male\"}, {\"Pclass\": 1, \"Survived\": 1.0, \"Sex\": \"female\"}, {\"Pclass\": 1, \"Survived\": 1.0, \"Sex\": \"female\"}, {\"Pclass\": 1, \"Survived\": 1.0, \"Sex\": \"female\"}, {\"Pclass\": 2, \"Survived\": 0.0, \"Sex\": \"female\"}, {\"Pclass\": 3, \"Survived\": 0.0, \"Sex\": \"male\"}, {\"Pclass\": 2, \"Survived\": 0.0, \"Sex\": \"male\"}, {\"Pclass\": 3, \"Survived\": 1.0, \"Sex\": \"female\"}, {\"Pclass\": 2, \"Survived\": 1.0, \"Sex\": \"female\"}, {\"Pclass\": 2, \"Survived\": 0.0, \"Sex\": \"male\"}, {\"Pclass\": 1, \"Survived\": 1.0, \"Sex\": \"female\"}, {\"Pclass\": 1, \"Survived\": 1.0, \"Sex\": \"female\"}, {\"Pclass\": 3, \"Survived\": 0.0, \"Sex\": \"male\"}, {\"Pclass\": 3, \"Survived\": 0.0, \"Sex\": \"male\"}, {\"Pclass\": 2, \"Survived\": 1.0, \"Sex\": \"female\"}, {\"Pclass\": 2, \"Survived\": 1.0, \"Sex\": \"female\"}, {\"Pclass\": 3, \"Survived\": 0.0, \"Sex\": \"male\"}, {\"Pclass\": 1, \"Survived\": 1.0, \"Sex\": \"female\"}, {\"Pclass\": 3, \"Survived\": 0.0, \"Sex\": \"male\"}, {\"Pclass\": 2, \"Survived\": 1.0, \"Sex\": \"female\"}, {\"Pclass\": 3, \"Survived\": 1.0, \"Sex\": \"female\"}, {\"Pclass\": 1, \"Survived\": 1.0, \"Sex\": \"female\"}, {\"Pclass\": 3, \"Survived\": 1.0, \"Sex\": \"female\"}, {\"Pclass\": 1, \"Survived\": 0.0, \"Sex\": \"male\"}, {\"Pclass\": 1, \"Survived\": 0.0, \"Sex\": \"male\"}, {\"Pclass\": 3, \"Survived\": 0.0, \"Sex\": \"male\"}, {\"Pclass\": 1, \"Survived\": 1.0, \"Sex\": \"female\"}, {\"Pclass\": 3, \"Survived\": 0.0, \"Sex\": \"male\"}, {\"Pclass\": 1, \"Survived\": 0.0, \"Sex\": \"male\"}, {\"Pclass\": 1, \"Survived\": 1.0, \"Sex\": \"female\"}, {\"Pclass\": 3, \"Survived\": 1.0, \"Sex\": \"male\"}, {\"Pclass\": 1, \"Survived\": 0.0, \"Sex\": \"male\"}, {\"Pclass\": 2, \"Survived\": 1.0, \"Sex\": \"male\"}, {\"Pclass\": 1, \"Survived\": 1.0, \"Sex\": \"female\"}, {\"Pclass\": 2, \"Survived\": 0.0, \"Sex\": \"male\"}, {\"Pclass\": 2, \"Survived\": 0.0, \"Sex\": \"male\"}, {\"Pclass\": 2, \"Survived\": 0.0, \"Sex\": \"male\"}, {\"Pclass\": 2, \"Survived\": 1.0, \"Sex\": \"female\"}, {\"Pclass\": 2, \"Survived\": 1.0, \"Sex\": \"female\"}, {\"Pclass\": 3, \"Survived\": 1.0, \"Sex\": \"female\"}, {\"Pclass\": 3, \"Survived\": 1.0, \"Sex\": \"male\"}, {\"Pclass\": 3, \"Survived\": 0.0, \"Sex\": \"male\"}, {\"Pclass\": 3, \"Survived\": 0.0, \"Sex\": \"male\"}, {\"Pclass\": 1, \"Survived\": 0.0, \"Sex\": \"male\"}, {\"Pclass\": 3, \"Survived\": 0.0, \"Sex\": \"male\"}, {\"Pclass\": 3, \"Survived\": 0.0, \"Sex\": \"male\"}, {\"Pclass\": 3, \"Survived\": 0.0, \"Sex\": \"male\"}, {\"Pclass\": 3, \"Survived\": 0.0, \"Sex\": \"male\"}, {\"Pclass\": 1, \"Survived\": 1.0, \"Sex\": \"female\"}, {\"Pclass\": 2, \"Survived\": 0.0, \"Sex\": \"female\"}, {\"Pclass\": 3, \"Survived\": 1.0, \"Sex\": \"female\"}, {\"Pclass\": 3, \"Survived\": 1.0, \"Sex\": \"female\"}, {\"Pclass\": 3, \"Survived\": 0.0, \"Sex\": \"male\"}, {\"Pclass\": 2, \"Survived\": 0.0, \"Sex\": \"male\"}, {\"Pclass\": 3, \"Survived\": 0.0, \"Sex\": \"female\"}, {\"Pclass\": 3, \"Survived\": 0.0, \"Sex\": \"male\"}, {\"Pclass\": 3, \"Survived\": 0.0, \"Sex\": \"male\"}, {\"Pclass\": 3, \"Survived\": 0.0, \"Sex\": \"male\"}, {\"Pclass\": 1, \"Survived\": 1.0, \"Sex\": \"female\"}, {\"Pclass\": 3, \"Survived\": 1.0, \"Sex\": \"female\"}, {\"Pclass\": 3, \"Survived\": 1.0, \"Sex\": \"female\"}, {\"Pclass\": 1, \"Survived\": 1.0, \"Sex\": \"female\"}, {\"Pclass\": 1, \"Survived\": 1.0, \"Sex\": \"male\"}, {\"Pclass\": 3, \"Survived\": 0.0, \"Sex\": \"male\"}, {\"Pclass\": 3, \"Survived\": 0.0, \"Sex\": \"male\"}, {\"Pclass\": 1, \"Survived\": 0.0, \"Sex\": \"male\"}, {\"Pclass\": 3, \"Survived\": 0.0, \"Sex\": \"female\"}, {\"Pclass\": 1, \"Survived\": 1.0, \"Sex\": \"female\"}, {\"Pclass\": 3, \"Survived\": 1.0, \"Sex\": \"female\"}, {\"Pclass\": 1, \"Survived\": 0.0, \"Sex\": \"male\"}, {\"Pclass\": 3, \"Survived\": 0.0, \"Sex\": \"male\"}, {\"Pclass\": 3, \"Survived\": 0.0, \"Sex\": \"male\"}, {\"Pclass\": 1, \"Survived\": 1.0, \"Sex\": \"female\"}, {\"Pclass\": 3, \"Survived\": 1.0, \"Sex\": \"female\"}, {\"Pclass\": 3, \"Survived\": 0.0, \"Sex\": \"male\"}, {\"Pclass\": 1, \"Survived\": 1.0, \"Sex\": \"female\"}, {\"Pclass\": 3, \"Survived\": 0.0, \"Sex\": \"male\"}, {\"Pclass\": 2, \"Survived\": 0.0, \"Sex\": \"male\"}, {\"Pclass\": 3, \"Survived\": 0.0, \"Sex\": \"male\"}, {\"Pclass\": 2, \"Survived\": 1.0, \"Sex\": \"female\"}, {\"Pclass\": 3, \"Survived\": 0.0, \"Sex\": \"male\"}, {\"Pclass\": 2, \"Survived\": 1.0, \"Sex\": \"female\"}, {\"Pclass\": 1, \"Survived\": 1.0, \"Sex\": \"male\"}, {\"Pclass\": 3, \"Survived\": 1.0, \"Sex\": \"male\"}, {\"Pclass\": 3, \"Survived\": 0.0, \"Sex\": \"male\"}, {\"Pclass\": 1, \"Survived\": 1.0, \"Sex\": \"female\"}, {\"Pclass\": 3, \"Survived\": 1.0, \"Sex\": \"female\"}, {\"Pclass\": 3, \"Survived\": 0.0, \"Sex\": \"male\"}, {\"Pclass\": 3, \"Survived\": 0.0, \"Sex\": \"female\"}, {\"Pclass\": 2, \"Survived\": 0.0, \"Sex\": \"male\"}, {\"Pclass\": 2, \"Survived\": 0.0, \"Sex\": \"male\"}, {\"Pclass\": 2, \"Survived\": 1.0, \"Sex\": \"female\"}, {\"Pclass\": 3, \"Survived\": 1.0, \"Sex\": \"male\"}, {\"Pclass\": 3, \"Survived\": 0.0, \"Sex\": \"male\"}, {\"Pclass\": 3, \"Survived\": 0.0, \"Sex\": \"female\"}, {\"Pclass\": 3, \"Survived\": 0.0, \"Sex\": \"male\"}, {\"Pclass\": 3, \"Survived\": 0.0, \"Sex\": \"female\"}, {\"Pclass\": 2, \"Survived\": 0.0, \"Sex\": \"male\"}, {\"Pclass\": 3, \"Survived\": 0.0, \"Sex\": \"male\"}, {\"Pclass\": 2, \"Survived\": 1.0, \"Sex\": \"male\"}, {\"Pclass\": 3, \"Survived\": 0.0, \"Sex\": \"male\"}, {\"Pclass\": 3, \"Survived\": 0.0, \"Sex\": \"female\"}, {\"Pclass\": 3, \"Survived\": 0.0, \"Sex\": \"male\"}, {\"Pclass\": 3, \"Survived\": 0.0, \"Sex\": \"male\"}, {\"Pclass\": 1, \"Survived\": 1.0, \"Sex\": \"female\"}, {\"Pclass\": 2, \"Survived\": 0.0, \"Sex\": \"male\"}, {\"Pclass\": 3, \"Survived\": 1.0, \"Sex\": \"male\"}, {\"Pclass\": 3, \"Survived\": 0.0, \"Sex\": \"female\"}, {\"Pclass\": 2, \"Survived\": 1.0, \"Sex\": \"female\"}, {\"Pclass\": 2, \"Survived\": 1.0, \"Sex\": \"female\"}, {\"Pclass\": 2, \"Survived\": 0.0, \"Sex\": \"male\"}, {\"Pclass\": 3, \"Survived\": 0.0, \"Sex\": \"female\"}, {\"Pclass\": 3, \"Survived\": 0.0, \"Sex\": \"male\"}, {\"Pclass\": 3, \"Survived\": 0.0, \"Sex\": \"male\"}, {\"Pclass\": 3, \"Survived\": 0.0, \"Sex\": \"male\"}, {\"Pclass\": 3, \"Survived\": 0.0, \"Sex\": \"female\"}, {\"Pclass\": 3, \"Survived\": 0.0, \"Sex\": \"male\"}, {\"Pclass\": 3, \"Survived\": 0.0, \"Sex\": \"male\"}, {\"Pclass\": 2, \"Survived\": 1.0, \"Sex\": \"female\"}, {\"Pclass\": 2, \"Survived\": 1.0, \"Sex\": \"female\"}, {\"Pclass\": 3, \"Survived\": 0.0, \"Sex\": \"male\"}, {\"Pclass\": 3, \"Survived\": 1.0, \"Sex\": \"male\"}, {\"Pclass\": 1, \"Survived\": 1.0, \"Sex\": \"male\"}, {\"Pclass\": 3, \"Survived\": 1.0, \"Sex\": \"female\"}, {\"Pclass\": 2, \"Survived\": 1.0, \"Sex\": \"female\"}, {\"Pclass\": 3, \"Survived\": 0.0, \"Sex\": \"male\"}, {\"Pclass\": 1, \"Survived\": 0.0, \"Sex\": \"male\"}, {\"Pclass\": 1, \"Survived\": 1.0, \"Sex\": \"female\"}, {\"Pclass\": 3, \"Survived\": 0.0, \"Sex\": \"female\"}, {\"Pclass\": 2, \"Survived\": 1.0, \"Sex\": \"female\"}, {\"Pclass\": 1, \"Survived\": 0.0, \"Sex\": \"male\"}, {\"Pclass\": 2, \"Survived\": 0.0, \"Sex\": \"male\"}, {\"Pclass\": 2, \"Survived\": 1.0, \"Sex\": \"female\"}, {\"Pclass\": 3, \"Survived\": 0.0, \"Sex\": \"male\"}, {\"Pclass\": 3, \"Survived\": 0.0, \"Sex\": \"male\"}, {\"Pclass\": 2, \"Survived\": 1.0, \"Sex\": \"female\"}, {\"Pclass\": 3, \"Survived\": 1.0, \"Sex\": \"male\"}, {\"Pclass\": 1, \"Survived\": 1.0, \"Sex\": \"male\"}, {\"Pclass\": 2, \"Survived\": 1.0, \"Sex\": \"female\"}, {\"Pclass\": 1, \"Survived\": 1.0, \"Sex\": \"male\"}, {\"Pclass\": 3, \"Survived\": 1.0, \"Sex\": \"female\"}, {\"Pclass\": 1, \"Survived\": 1.0, \"Sex\": \"male\"}, {\"Pclass\": 2, \"Survived\": 0.0, \"Sex\": \"male\"}, {\"Pclass\": 3, \"Survived\": 0.0, \"Sex\": \"male\"}, {\"Pclass\": 1, \"Survived\": 0.0, \"Sex\": \"male\"}, {\"Pclass\": 1, \"Survived\": 1.0, \"Sex\": \"male\"}, {\"Pclass\": 3, \"Survived\": 0.0, \"Sex\": \"male\"}, {\"Pclass\": 3, \"Survived\": 1.0, \"Sex\": \"male\"}, {\"Pclass\": 1, \"Survived\": 0.0, \"Sex\": \"male\"}, {\"Pclass\": 1, \"Survived\": 1.0, \"Sex\": \"female\"}, {\"Pclass\": 2, \"Survived\": 1.0, \"Sex\": \"female\"}, {\"Pclass\": 3, \"Survived\": 0.0, \"Sex\": \"male\"}, {\"Pclass\": 1, \"Survived\": 1.0, \"Sex\": \"male\"}, {\"Pclass\": 3, \"Survived\": 0.0, \"Sex\": \"male\"}, {\"Pclass\": 1, \"Survived\": 0.0, \"Sex\": \"male\"}, {\"Pclass\": 2, \"Survived\": 0.0, \"Sex\": \"male\"}, {\"Pclass\": 3, \"Survived\": 0.0, \"Sex\": \"male\"}, {\"Pclass\": 3, \"Survived\": 0.0, \"Sex\": \"male\"}, {\"Pclass\": 2, \"Survived\": 0.0, \"Sex\": \"male\"}, {\"Pclass\": 1, \"Survived\": 0.0, \"Sex\": \"male\"}, {\"Pclass\": 3, \"Survived\": 0.0, \"Sex\": \"male\"}, {\"Pclass\": 3, \"Survived\": 1.0, \"Sex\": \"female\"}, {\"Pclass\": 3, \"Survived\": 0.0, \"Sex\": \"male\"}, {\"Pclass\": 3, \"Survived\": 0.0, \"Sex\": \"male\"}, {\"Pclass\": 2, \"Survived\": 1.0, \"Sex\": \"female\"}, {\"Pclass\": 2, \"Survived\": 1.0, \"Sex\": \"female\"}, {\"Pclass\": 3, \"Survived\": 0.0, \"Sex\": \"female\"}, {\"Pclass\": 1, \"Survived\": 0.0, \"Sex\": \"male\"}, {\"Pclass\": 2, \"Survived\": 0.0, \"Sex\": \"male\"}, {\"Pclass\": 3, \"Survived\": 0.0, \"Sex\": \"male\"}, {\"Pclass\": 3, \"Survived\": 0.0, \"Sex\": \"male\"}, {\"Pclass\": 3, \"Survived\": 1.0, \"Sex\": \"female\"}, {\"Pclass\": 3, \"Survived\": 0.0, \"Sex\": \"male\"}, {\"Pclass\": 2, \"Survived\": 0.0, \"Sex\": \"male\"}, {\"Pclass\": 3, \"Survived\": 0.0, \"Sex\": \"male\"}, {\"Pclass\": 3, \"Survived\": 1.0, \"Sex\": \"female\"}, {\"Pclass\": 1, \"Survived\": 1.0, \"Sex\": \"male\"}, {\"Pclass\": 3, \"Survived\": 0.0, \"Sex\": \"female\"}, {\"Pclass\": 1, \"Survived\": 1.0, \"Sex\": \"female\"}, {\"Pclass\": 1, \"Survived\": 0.0, \"Sex\": \"male\"}, {\"Pclass\": 3, \"Survived\": 0.0, \"Sex\": \"male\"}, {\"Pclass\": 3, \"Survived\": 1.0, \"Sex\": \"male\"}, {\"Pclass\": 3, \"Survived\": 0.0, \"Sex\": \"male\"}, {\"Pclass\": 3, \"Survived\": 0.0, \"Sex\": \"male\"}, {\"Pclass\": 1, \"Survived\": 0.0, \"Sex\": \"male\"}, {\"Pclass\": 1, \"Survived\": 0.0, \"Sex\": \"male\"}, {\"Pclass\": 3, \"Survived\": 0.0, \"Sex\": \"male\"}, {\"Pclass\": 3, \"Survived\": 0.0, \"Sex\": \"male\"}, {\"Pclass\": 1, \"Survived\": 1.0, \"Sex\": \"female\"}, {\"Pclass\": 3, \"Survived\": 0.0, \"Sex\": \"male\"}, {\"Pclass\": 1, \"Survived\": 0.0, \"Sex\": \"female\"}, {\"Pclass\": 3, \"Survived\": 0.0, \"Sex\": \"male\"}, {\"Pclass\": 3, \"Survived\": 0.0, \"Sex\": \"male\"}, {\"Pclass\": 3, \"Survived\": 0.0, \"Sex\": \"female\"}, {\"Pclass\": 3, \"Survived\": 0.0, \"Sex\": \"female\"}, {\"Pclass\": 3, \"Survived\": 0.0, \"Sex\": \"female\"}, {\"Pclass\": 1, \"Survived\": 1.0, \"Sex\": \"female\"}, {\"Pclass\": 1, \"Survived\": 0.0, \"Sex\": \"male\"}, {\"Pclass\": 2, \"Survived\": 1.0, \"Sex\": \"female\"}, {\"Pclass\": 1, \"Survived\": 1.0, \"Sex\": \"male\"}, {\"Pclass\": 3, \"Survived\": 0.0, \"Sex\": \"male\"}, {\"Pclass\": 3, \"Survived\": 1.0, \"Sex\": \"male\"}, {\"Pclass\": 3, \"Survived\": 1.0, \"Sex\": \"male\"}, {\"Pclass\": 3, \"Survived\": 0.0, \"Sex\": \"male\"}, {\"Pclass\": 1, \"Survived\": 1.0, \"Sex\": \"male\"}, {\"Pclass\": 1, \"Survived\": 1.0, \"Sex\": \"female\"}, {\"Pclass\": 3, \"Survived\": 0.0, \"Sex\": \"male\"}, {\"Pclass\": 1, \"Survived\": 0.0, \"Sex\": \"male\"}, {\"Pclass\": 2, \"Survived\": 1.0, \"Sex\": \"female\"}, {\"Pclass\": 3, \"Survived\": 0.0, \"Sex\": \"male\"}, {\"Pclass\": 2, \"Survived\": 1.0, \"Sex\": \"female\"}, {\"Pclass\": 3, \"Survived\": 0.0, \"Sex\": \"male\"}, {\"Pclass\": 1, \"Survived\": 1.0, \"Sex\": \"female\"}, {\"Pclass\": 3, \"Survived\": 0.0, \"Sex\": \"male\"}, {\"Pclass\": 3, \"Survived\": 0.0, \"Sex\": \"male\"}, {\"Pclass\": 1, \"Survived\": 1.0, \"Sex\": \"female\"}, {\"Pclass\": 3, \"Survived\": 0.0, \"Sex\": \"male\"}, {\"Pclass\": 3, \"Survived\": 0.0, \"Sex\": \"male\"}, {\"Pclass\": 2, \"Survived\": 1.0, \"Sex\": \"female\"}, {\"Pclass\": 1, \"Survived\": 0.0, \"Sex\": \"male\"}, {\"Pclass\": 3, \"Survived\": 0.0, \"Sex\": \"male\"}, {\"Pclass\": 2, \"Survived\": 0.0, \"Sex\": \"male\"}, {\"Pclass\": 2, \"Survived\": 1.0, \"Sex\": \"female\"}, {\"Pclass\": 3, \"Survived\": 0.0, \"Sex\": \"male\"}, {\"Pclass\": 3, \"Survived\": 0.0, \"Sex\": \"male\"}, {\"Pclass\": 3, \"Survived\": 1.0, \"Sex\": \"female\"}, {\"Pclass\": 3, \"Survived\": 0.0, \"Sex\": \"female\"}, {\"Pclass\": 2, \"Survived\": 1.0, \"Sex\": \"female\"}, {\"Pclass\": 1, \"Survived\": 0.0, \"Sex\": \"male\"}, {\"Pclass\": 1, \"Survived\": 1.0, \"Sex\": \"female\"}, {\"Pclass\": 3, \"Survived\": 0.0, \"Sex\": \"male\"}, {\"Pclass\": 1, \"Survived\": 1.0, \"Sex\": \"female\"}, {\"Pclass\": 1, \"Survived\": 1.0, \"Sex\": \"female\"}, {\"Pclass\": 3, \"Survived\": 0.0, \"Sex\": \"female\"}, {\"Pclass\": 3, \"Survived\": 0.0, \"Sex\": \"female\"}, {\"Pclass\": 2, \"Survived\": 1.0, \"Sex\": \"male\"}, {\"Pclass\": 1, \"Survived\": 0.0, \"Sex\": \"male\"}, {\"Pclass\": 1, \"Survived\": 0.0, \"Sex\": \"male\"}, {\"Pclass\": 2, \"Survived\": 1.0, \"Sex\": \"female\"}, {\"Pclass\": 2, \"Survived\": 1.0, \"Sex\": \"male\"}, {\"Pclass\": 3, \"Survived\": 0.0, \"Sex\": \"male\"}, {\"Pclass\": 2, \"Survived\": 1.0, \"Sex\": \"male\"}, {\"Pclass\": 1, \"Survived\": 1.0, \"Sex\": \"male\"}, {\"Pclass\": 2, \"Survived\": 0.0, \"Sex\": \"male\"}, {\"Pclass\": 3, \"Survived\": 0.0, \"Sex\": \"male\"}, {\"Pclass\": 3, \"Survived\": 1.0, \"Sex\": \"male\"}, {\"Pclass\": 3, \"Survived\": 1.0, \"Sex\": \"female\"}, {\"Pclass\": 1, \"Survived\": 0.0, \"Sex\": \"male\"}, {\"Pclass\": 1, \"Survived\": 1.0, \"Sex\": \"female\"}, {\"Pclass\": 1, \"Survived\": 0.0, \"Sex\": \"male\"}, {\"Pclass\": 1, \"Survived\": 1.0, \"Sex\": \"female\"}, {\"Pclass\": 3, \"Survived\": 1.0, \"Sex\": \"female\"}, {\"Pclass\": 3, \"Survived\": 0.0, \"Sex\": \"male\"}, {\"Pclass\": 3, \"Survived\": 0.0, \"Sex\": \"male\"}, {\"Pclass\": 2, \"Survived\": 0.0, \"Sex\": \"male\"}, {\"Pclass\": 3, \"Survived\": 0.0, \"Sex\": \"male\"}, {\"Pclass\": 3, \"Survived\": 0.0, \"Sex\": \"female\"}, {\"Pclass\": 3, \"Survived\": 0.0, \"Sex\": \"male\"}, {\"Pclass\": 3, \"Survived\": 0.0, \"Sex\": \"male\"}, {\"Pclass\": 3, \"Survived\": 0.0, \"Sex\": \"female\"}, {\"Pclass\": 3, \"Survived\": 0.0, \"Sex\": \"male\"}, {\"Pclass\": 3, \"Survived\": 1.0, \"Sex\": \"male\"}, {\"Pclass\": 2, \"Survived\": 1.0, \"Sex\": \"male\"}, {\"Pclass\": 1, \"Survived\": 1.0, \"Sex\": \"female\"}, {\"Pclass\": 1, \"Survived\": 1.0, \"Sex\": \"male\"}, {\"Pclass\": 3, \"Survived\": 1.0, \"Sex\": \"female\"}, {\"Pclass\": 3, \"Survived\": 0.0, \"Sex\": \"male\"}, {\"Pclass\": 3, \"Survived\": 0.0, \"Sex\": \"male\"}, {\"Pclass\": 2, \"Survived\": 1.0, \"Sex\": \"female\"}, {\"Pclass\": 1, \"Survived\": 1.0, \"Sex\": \"female\"}, {\"Pclass\": 3, \"Survived\": 0.0, \"Sex\": \"female\"}, {\"Pclass\": 3, \"Survived\": 1.0, \"Sex\": \"male\"}, {\"Pclass\": 2, \"Survived\": 1.0, \"Sex\": \"female\"}, {\"Pclass\": 1, \"Survived\": 1.0, \"Sex\": \"female\"}, {\"Pclass\": 2, \"Survived\": 0.0, \"Sex\": \"male\"}, {\"Pclass\": 1, \"Survived\": 0.0, \"Sex\": \"male\"}, {\"Pclass\": 3, \"Survived\": 0.0, \"Sex\": \"male\"}, {\"Pclass\": 1, \"Survived\": 1.0, \"Sex\": \"female\"}, {\"Pclass\": 2, \"Survived\": 0.0, \"Sex\": \"male\"}, {\"Pclass\": 1, \"Survived\": 1.0, \"Sex\": \"male\"}, {\"Pclass\": 3, \"Survived\": 0.0, \"Sex\": \"male\"}, {\"Pclass\": 3, \"Survived\": 0.0, \"Sex\": \"male\"}, {\"Pclass\": 3, \"Survived\": 0.0, \"Sex\": \"male\"}, {\"Pclass\": 1, \"Survived\": 1.0, \"Sex\": \"female\"}, {\"Pclass\": 3, \"Survived\": 0.0, \"Sex\": \"male\"}, {\"Pclass\": 3, \"Survived\": 0.0, \"Sex\": \"female\"}, {\"Pclass\": 2, \"Survived\": 0.0, \"Sex\": \"male\"}, {\"Pclass\": 3, \"Survived\": 0.0, \"Sex\": \"male\"}, {\"Pclass\": 2, \"Survived\": 1.0, \"Sex\": \"female\"}, {\"Pclass\": 3, \"Survived\": 0.0, \"Sex\": \"male\"}, {\"Pclass\": 3, \"Survived\": 0.0, \"Sex\": \"male\"}, {\"Pclass\": 1, \"Survived\": 1.0, \"Sex\": \"male\"}, {\"Pclass\": 2, \"Survived\": 1.0, \"Sex\": \"female\"}, {\"Pclass\": 3, \"Survived\": 0.0, \"Sex\": \"male\"}, {\"Pclass\": 1, \"Survived\": 0.0, \"Sex\": \"male\"}, {\"Pclass\": 3, \"Survived\": 0.0, \"Sex\": \"male\"}, {\"Pclass\": 1, \"Survived\": 1.0, \"Sex\": \"male\"}, {\"Pclass\": 3, \"Survived\": 0.0, \"Sex\": \"male\"}, {\"Pclass\": 3, \"Survived\": 0.0, \"Sex\": \"male\"}, {\"Pclass\": 1, \"Survived\": 1.0, \"Sex\": \"male\"}, {\"Pclass\": 2, \"Survived\": 1.0, \"Sex\": \"female\"}, {\"Pclass\": 1, \"Survived\": 1.0, \"Sex\": \"female\"}, {\"Pclass\": 3, \"Survived\": 0.0, \"Sex\": \"female\"}, {\"Pclass\": 3, \"Survived\": 0.0, \"Sex\": \"male\"}, {\"Pclass\": 3, \"Survived\": 1.0, \"Sex\": \"female\"}, {\"Pclass\": 3, \"Survived\": 0.0, \"Sex\": \"male\"}, {\"Pclass\": 3, \"Survived\": 0.0, \"Sex\": \"male\"}, {\"Pclass\": 2, \"Survived\": 1.0, \"Sex\": \"female\"}, {\"Pclass\": 3, \"Survived\": 0.0, \"Sex\": \"male\"}, {\"Pclass\": 3, \"Survived\": 0.0, \"Sex\": \"female\"}, {\"Pclass\": 2, \"Survived\": 1.0, \"Sex\": \"female\"}, {\"Pclass\": 2, \"Survived\": 0.0, \"Sex\": \"male\"}, {\"Pclass\": 3, \"Survived\": 0.0, \"Sex\": \"male\"}, {\"Pclass\": 1, \"Survived\": 1.0, \"Sex\": \"male\"}, {\"Pclass\": 3, \"Survived\": 1.0, \"Sex\": \"male\"}, {\"Pclass\": 3, \"Survived\": 0.0, \"Sex\": \"male\"}, {\"Pclass\": 3, \"Survived\": 0.0, \"Sex\": \"male\"}, {\"Pclass\": 1, \"Survived\": 0.0, \"Sex\": \"male\"}, {\"Pclass\": 2, \"Survived\": 0.0, \"Sex\": \"male\"}, {\"Pclass\": 1, \"Survived\": 1.0, \"Sex\": \"female\"}, {\"Pclass\": 3, \"Survived\": 0.0, \"Sex\": \"male\"}, {\"Pclass\": 3, \"Survived\": 0.0, \"Sex\": \"male\"}, {\"Pclass\": 1, \"Survived\": 1.0, \"Sex\": \"male\"}, {\"Pclass\": 3, \"Survived\": 0.0, \"Sex\": \"male\"}, {\"Pclass\": 1, \"Survived\": 1.0, \"Sex\": \"male\"}, {\"Pclass\": 1, \"Survived\": 0.0, \"Sex\": \"male\"}, {\"Pclass\": 3, \"Survived\": 0.0, \"Sex\": \"female\"}, {\"Pclass\": 2, \"Survived\": 1.0, \"Sex\": \"female\"}, {\"Pclass\": 3, \"Survived\": 0.0, \"Sex\": \"male\"}, {\"Pclass\": 2, \"Survived\": 0.0, \"Sex\": \"male\"}, {\"Pclass\": 3, \"Survived\": 0.0, \"Sex\": \"female\"}, {\"Pclass\": 3, \"Survived\": 0.0, \"Sex\": \"male\"}, {\"Pclass\": 3, \"Survived\": 0.0, \"Sex\": \"male\"}, {\"Pclass\": 1, \"Survived\": 1.0, \"Sex\": \"female\"}, {\"Pclass\": 3, \"Survived\": 0.0, \"Sex\": \"female\"}, {\"Pclass\": 3, \"Survived\": 1.0, \"Sex\": \"male\"}, {\"Pclass\": 3, \"Survived\": 1.0, \"Sex\": \"female\"}, {\"Pclass\": 1, \"Survived\": 1.0, \"Sex\": \"male\"}, {\"Pclass\": 3, \"Survived\": 0.0, \"Sex\": \"male\"}, {\"Pclass\": 1, \"Survived\": 1.0, \"Sex\": \"male\"}, {\"Pclass\": 3, \"Survived\": 0.0, \"Sex\": \"male\"}, {\"Pclass\": 3, \"Survived\": 1.0, \"Sex\": \"female\"}, {\"Pclass\": 3, \"Survived\": 0.0, \"Sex\": \"male\"}, {\"Pclass\": 2, \"Survived\": 1.0, \"Sex\": \"female\"}, {\"Pclass\": 3, \"Survived\": 0.0, \"Sex\": \"male\"}, {\"Pclass\": 3, \"Survived\": 1.0, \"Sex\": \"female\"}, {\"Pclass\": 3, \"Survived\": 0.0, \"Sex\": \"female\"}, {\"Pclass\": 2, \"Survived\": 0.0, \"Sex\": \"male\"}, {\"Pclass\": 3, \"Survived\": 0.0, \"Sex\": \"male\"}, {\"Pclass\": 3, \"Survived\": 0.0, \"Sex\": \"female\"}, {\"Pclass\": 2, \"Survived\": 0.0, \"Sex\": \"male\"}, {\"Pclass\": 1, \"Survived\": 0.0, \"Sex\": \"male\"}, {\"Pclass\": 1, \"Survived\": 1.0, \"Sex\": \"male\"}, {\"Pclass\": 3, \"Survived\": 0.0, \"Sex\": \"male\"}, {\"Pclass\": 1, \"Survived\": 0.0, \"Sex\": \"male\"}, {\"Pclass\": 3, \"Survived\": 0.0, \"Sex\": \"male\"}, {\"Pclass\": 3, \"Survived\": 1.0, \"Sex\": \"male\"}, {\"Pclass\": 2, \"Survived\": 0.0, \"Sex\": \"male\"}, {\"Pclass\": 2, \"Survived\": 0.0, \"Sex\": \"male\"}, {\"Pclass\": 3, \"Survived\": 0.0, \"Sex\": \"male\"}, {\"Pclass\": 3, \"Survived\": 0.0, \"Sex\": \"male\"}, {\"Pclass\": 1, \"Survived\": 1.0, \"Sex\": \"female\"}, {\"Pclass\": 2, \"Survived\": 1.0, \"Sex\": \"female\"}, {\"Pclass\": 1, \"Survived\": 0.0, \"Sex\": \"male\"}, {\"Pclass\": 2, \"Survived\": 0.0, \"Sex\": \"male\"}, {\"Pclass\": 2, \"Survived\": 1.0, \"Sex\": \"male\"}, {\"Pclass\": 2, \"Survived\": 0.0, \"Sex\": \"male\"}, {\"Pclass\": 3, \"Survived\": 0.0, \"Sex\": \"male\"}, {\"Pclass\": 3, \"Survived\": 0.0, \"Sex\": \"male\"}, {\"Pclass\": 3, \"Survived\": 1.0, \"Sex\": \"female\"}, {\"Pclass\": 3, \"Survived\": 0.0, \"Sex\": \"female\"}, {\"Pclass\": 1, \"Survived\": 1.0, \"Sex\": \"male\"}, {\"Pclass\": 3, \"Survived\": 0.0, \"Sex\": \"female\"}, {\"Pclass\": 1, \"Survived\": 1.0, \"Sex\": \"male\"}, {\"Pclass\": 3, \"Survived\": 0.0, \"Sex\": \"male\"}, {\"Pclass\": 3, \"Survived\": 0.0, \"Sex\": \"male\"}, {\"Pclass\": 2, \"Survived\": 0.0, \"Sex\": \"male\"}, {\"Pclass\": 2, \"Survived\": 0.0, \"Sex\": \"male\"}, {\"Pclass\": 3, \"Survived\": 0.0, \"Sex\": \"male\"}, {\"Pclass\": 3, \"Survived\": 0.0, \"Sex\": \"male\"}, {\"Pclass\": 3, \"Survived\": 0.0, \"Sex\": \"male\"}, {\"Pclass\": 1, \"Survived\": 1.0, \"Sex\": \"female\"}, {\"Pclass\": 1, \"Survived\": 1.0, \"Sex\": \"male\"}, {\"Pclass\": 3, \"Survived\": 1.0, \"Sex\": \"female\"}, {\"Pclass\": 3, \"Survived\": 1.0, \"Sex\": \"male\"}, {\"Pclass\": 3, \"Survived\": 0.0, \"Sex\": \"male\"}, {\"Pclass\": 1, \"Survived\": 0.0, \"Sex\": \"male\"}, {\"Pclass\": 2, \"Survived\": 0.0, \"Sex\": \"male\"}, {\"Pclass\": 3, \"Survived\": 0.0, \"Sex\": \"male\"}, {\"Pclass\": 3, \"Survived\": 1.0, \"Sex\": \"female\"}, {\"Pclass\": 1, \"Survived\": 0.0, \"Sex\": \"male\"}, {\"Pclass\": 3, \"Survived\": 0.0, \"Sex\": \"male\"}, {\"Pclass\": 1, \"Survived\": 1.0, \"Sex\": \"female\"}, {\"Pclass\": 1, \"Survived\": 1.0, \"Sex\": \"male\"}, {\"Pclass\": 3, \"Survived\": 0.0, \"Sex\": \"female\"}, {\"Pclass\": 3, \"Survived\": 0.0, \"Sex\": \"male\"}, {\"Pclass\": 3, \"Survived\": 0.0, \"Sex\": \"male\"}, {\"Pclass\": 2, \"Survived\": 0.0, \"Sex\": \"male\"}, {\"Pclass\": 2, \"Survived\": 1.0, \"Sex\": \"female\"}, {\"Pclass\": 1, \"Survived\": 1.0, \"Sex\": \"male\"}, {\"Pclass\": 1, \"Survived\": 1.0, \"Sex\": \"female\"}, {\"Pclass\": 3, \"Survived\": 1.0, \"Sex\": \"male\"}, {\"Pclass\": 1, \"Survived\": 1.0, \"Sex\": \"female\"}, {\"Pclass\": 1, \"Survived\": 0.0, \"Sex\": \"male\"}, {\"Pclass\": 1, \"Survived\": 1.0, \"Sex\": \"male\"}, {\"Pclass\": 3, \"Survived\": 0.0, \"Sex\": \"male\"}, {\"Pclass\": 2, \"Survived\": 0.0, \"Sex\": \"male\"}, {\"Pclass\": 3, \"Survived\": 0.0, \"Sex\": \"male\"}, {\"Pclass\": 1, \"Survived\": 1.0, \"Sex\": \"female\"}, {\"Pclass\": 2, \"Survived\": 1.0, \"Sex\": \"female\"}, {\"Pclass\": 3, \"Survived\": 0.0, \"Sex\": \"male\"}, {\"Pclass\": 3, \"Survived\": 0.0, \"Sex\": \"male\"}, {\"Pclass\": 2, \"Survived\": 1.0, \"Sex\": \"female\"}, {\"Pclass\": 3, \"Survived\": 0.0, \"Sex\": \"male\"}, {\"Pclass\": 2, \"Survived\": 0.0, \"Sex\": \"male\"}, {\"Pclass\": 2, \"Survived\": 0.0, \"Sex\": \"male\"}, {\"Pclass\": 1, \"Survived\": 1.0, \"Sex\": \"male\"}, {\"Pclass\": 3, \"Survived\": 0.0, \"Sex\": \"male\"}, {\"Pclass\": 2, \"Survived\": 1.0, \"Sex\": \"female\"}, {\"Pclass\": 3, \"Survived\": 1.0, \"Sex\": \"female\"}, {\"Pclass\": 2, \"Survived\": 0.0, \"Sex\": \"male\"}, {\"Pclass\": 3, \"Survived\": 0.0, \"Sex\": \"female\"}, {\"Pclass\": 1, \"Survived\": 1.0, \"Sex\": \"female\"}, {\"Pclass\": 3, \"Survived\": 0.0, \"Sex\": \"male\"}, {\"Pclass\": 2, \"Survived\": 0.0, \"Sex\": \"male\"}, {\"Pclass\": 2, \"Survived\": 0.0, \"Sex\": \"male\"}, {\"Pclass\": 2, \"Survived\": 0.0, \"Sex\": \"male\"}, {\"Pclass\": 3, \"Survived\": 0.0, \"Sex\": \"male\"}, {\"Pclass\": 3, \"Survived\": 0.0, \"Sex\": \"female\"}, {\"Pclass\": 1, \"Survived\": 1.0, \"Sex\": \"male\"}, {\"Pclass\": 3, \"Survived\": 0.0, \"Sex\": \"male\"}, {\"Pclass\": 3, \"Survived\": 0.0, \"Sex\": \"male\"}, {\"Pclass\": 1, \"Survived\": 1.0, \"Sex\": \"male\"}, {\"Pclass\": 1, \"Survived\": 0.0, \"Sex\": \"male\"}, {\"Pclass\": 1, \"Survived\": 1.0, \"Sex\": \"female\"}, {\"Pclass\": 3, \"Survived\": 0.0, \"Sex\": \"male\"}, {\"Pclass\": 3, \"Survived\": 1.0, \"Sex\": \"male\"}, {\"Pclass\": 1, \"Survived\": 0.0, \"Sex\": \"male\"}, {\"Pclass\": 3, \"Survived\": 0.0, \"Sex\": \"male\"}, {\"Pclass\": 2, \"Survived\": 1.0, \"Sex\": \"female\"}, {\"Pclass\": 1, \"Survived\": 0.0, \"Sex\": \"male\"}, {\"Pclass\": 3, \"Survived\": 0.0, \"Sex\": \"male\"}, {\"Pclass\": 2, \"Survived\": 1.0, \"Sex\": \"female\"}, {\"Pclass\": 3, \"Survived\": 1.0, \"Sex\": \"male\"}, {\"Pclass\": 3, \"Survived\": 0.0, \"Sex\": \"male\"}, {\"Pclass\": 3, \"Survived\": 0.0, \"Sex\": \"male\"}, {\"Pclass\": 2, \"Survived\": 1.0, \"Sex\": \"female\"}, {\"Pclass\": 2, \"Survived\": 1.0, \"Sex\": \"male\"}, {\"Pclass\": 3, \"Survived\": 0.0, \"Sex\": \"male\"}, {\"Pclass\": 2, \"Survived\": 0.0, \"Sex\": \"male\"}, {\"Pclass\": 3, \"Survived\": 0.0, \"Sex\": \"male\"}, {\"Pclass\": 1, \"Survived\": 1.0, \"Sex\": \"female\"}, {\"Pclass\": 3, \"Survived\": 0.0, \"Sex\": \"male\"}, {\"Pclass\": 3, \"Survived\": 0.0, \"Sex\": \"male\"}, {\"Pclass\": 3, \"Survived\": 1.0, \"Sex\": \"male\"}, {\"Pclass\": 1, \"Survived\": 1.0, \"Sex\": \"female\"}, {\"Pclass\": 3, \"Survived\": 0.0, \"Sex\": \"male\"}, {\"Pclass\": 1, \"Survived\": 1.0, \"Sex\": \"female\"}, {\"Pclass\": 1, \"Survived\": 0.0, \"Sex\": \"male\"}, {\"Pclass\": 3, \"Survived\": 0.0, \"Sex\": \"female\"}, {\"Pclass\": 3, \"Survived\": 0.0, \"Sex\": \"male\"}, {\"Pclass\": 3, \"Survived\": 0.0, \"Sex\": \"male\"}, {\"Pclass\": 3, \"Survived\": 0.0, \"Sex\": \"male\"}, {\"Pclass\": 3, \"Survived\": 0.0, \"Sex\": \"male\"}, {\"Pclass\": 2, \"Survived\": 0.0, \"Sex\": \"female\"}, {\"Pclass\": 3, \"Survived\": 0.0, \"Sex\": \"male\"}, {\"Pclass\": 2, \"Survived\": 1.0, \"Sex\": \"female\"}, {\"Pclass\": 3, \"Survived\": 0.0, \"Sex\": \"male\"}, {\"Pclass\": 3, \"Survived\": 0.0, \"Sex\": \"male\"}, {\"Pclass\": 3, \"Survived\": 1.0, \"Sex\": \"female\"}, {\"Pclass\": 3, \"Survived\": 0.0, \"Sex\": \"male\"}, {\"Pclass\": 1, \"Survived\": 1.0, \"Sex\": \"female\"}, {\"Pclass\": 3, \"Survived\": 1.0, \"Sex\": \"female\"}, {\"Pclass\": 1, \"Survived\": 1.0, \"Sex\": \"female\"}, {\"Pclass\": 1, \"Survived\": 0.0, \"Sex\": \"male\"}, {\"Pclass\": 3, \"Survived\": 0.0, \"Sex\": \"male\"}, {\"Pclass\": 3, \"Survived\": 0.0, \"Sex\": \"male\"}, {\"Pclass\": 3, \"Survived\": 0.0, \"Sex\": \"male\"}, {\"Pclass\": 3, \"Survived\": 1.0, \"Sex\": \"female\"}, {\"Pclass\": 3, \"Survived\": 0.0, \"Sex\": \"male\"}, {\"Pclass\": 3, \"Survived\": 1.0, \"Sex\": \"male\"}, {\"Pclass\": 1, \"Survived\": 0.0, \"Sex\": \"male\"}, {\"Pclass\": 3, \"Survived\": 0.0, \"Sex\": \"male\"}, {\"Pclass\": 2, \"Survived\": 0.0, \"Sex\": \"male\"}, {\"Pclass\": 3, \"Survived\": 0.0, \"Sex\": \"female\"}, {\"Pclass\": 1, \"Survived\": 0.0, \"Sex\": \"male\"}, {\"Pclass\": 3, \"Survived\": 0.0, \"Sex\": \"male\"}, {\"Pclass\": 2, \"Survived\": 0.0, \"Sex\": \"male\"}, {\"Pclass\": 1, \"Survived\": 1.0, \"Sex\": \"female\"}, {\"Pclass\": 3, \"Survived\": 1.0, \"Sex\": \"female\"}, {\"Pclass\": 3, \"Survived\": 0.0, \"Sex\": \"male\"}, {\"Pclass\": 3, \"Survived\": 0.0, \"Sex\": \"female\"}, {\"Pclass\": 2, \"Survived\": 0.0, \"Sex\": \"male\"}, {\"Pclass\": 2, \"Survived\": 1.0, \"Sex\": \"female\"}, {\"Pclass\": 1, \"Survived\": 1.0, \"Sex\": \"male\"}, {\"Pclass\": 3, \"Survived\": 1.0, \"Sex\": \"male\"}, {\"Pclass\": 3, \"Survived\": 1.0, \"Sex\": \"male\"}, {\"Pclass\": 3, \"Survived\": 0.0, \"Sex\": \"male\"}, {\"Pclass\": 1, \"Survived\": 0.0, \"Sex\": \"male\"}, {\"Pclass\": 3, \"Survived\": 0.0, \"Sex\": \"female\"}, {\"Pclass\": 2, \"Survived\": 0.0, \"Sex\": \"male\"}, {\"Pclass\": 1, \"Survived\": 1.0, \"Sex\": \"female\"}, {\"Pclass\": 3, \"Survived\": 0.0, \"Sex\": \"male\"}, {\"Pclass\": 3, \"Survived\": 0.0, \"Sex\": \"male\"}, {\"Pclass\": 2, \"Survived\": 0.0, \"Sex\": \"male\"}, {\"Pclass\": 3, \"Survived\": 0.0, \"Sex\": \"female\"}, {\"Pclass\": 3, \"Survived\": 0.0, \"Sex\": \"male\"}, {\"Pclass\": 1, \"Survived\": 0.0, \"Sex\": \"male\"}, {\"Pclass\": 3, \"Survived\": 0.0, \"Sex\": \"female\"}, {\"Pclass\": 2, \"Survived\": 0.0, \"Sex\": \"male\"}, {\"Pclass\": 3, \"Survived\": 0.0, \"Sex\": \"male\"}, {\"Pclass\": 3, \"Survived\": 0.0, \"Sex\": \"male\"}, {\"Pclass\": 1, \"Survived\": 1.0, \"Sex\": \"female\"}, {\"Pclass\": 3, \"Survived\": 1.0, \"Sex\": \"male\"}, {\"Pclass\": 1, \"Survived\": 0.0, \"Sex\": \"male\"}, {\"Pclass\": 3, \"Survived\": 1.0, \"Sex\": \"female\"}, {\"Pclass\": 3, \"Survived\": 0.0, \"Sex\": \"male\"}, {\"Pclass\": 3, \"Survived\": 0.0, \"Sex\": \"male\"}, {\"Pclass\": 3, \"Survived\": 0.0, \"Sex\": \"male\"}, {\"Pclass\": 2, \"Survived\": 1.0, \"Sex\": \"male\"}, {\"Pclass\": 3, \"Survived\": 1.0, \"Sex\": \"male\"}, {\"Pclass\": 1, \"Survived\": 1.0, \"Sex\": \"female\"}, {\"Pclass\": 3, \"Survived\": 1.0, \"Sex\": \"female\"}, {\"Pclass\": 2, \"Survived\": 1.0, \"Sex\": \"male\"}, {\"Pclass\": 3, \"Survived\": 0.0, \"Sex\": \"male\"}, {\"Pclass\": 3, \"Survived\": 0.0, \"Sex\": \"male\"}, {\"Pclass\": 3, \"Survived\": 0.0, \"Sex\": \"male\"}, {\"Pclass\": 1, \"Survived\": 1.0, \"Sex\": \"female\"}, {\"Pclass\": 3, \"Survived\": 0.0, \"Sex\": \"male\"}, {\"Pclass\": 3, \"Survived\": 0.0, \"Sex\": \"male\"}, {\"Pclass\": 3, \"Survived\": 1.0, \"Sex\": \"male\"}, {\"Pclass\": 1, \"Survived\": 1.0, \"Sex\": \"male\"}, {\"Pclass\": 3, \"Survived\": 0.0, \"Sex\": \"male\"}, {\"Pclass\": 2, \"Survived\": 0.0, \"Sex\": \"male\"}, {\"Pclass\": 1, \"Survived\": 1.0, \"Sex\": \"female\"}, {\"Pclass\": 3, \"Survived\": 0.0, \"Sex\": \"male\"}, {\"Pclass\": 3, \"Survived\": 0.0, \"Sex\": \"male\"}, {\"Pclass\": 3, \"Survived\": 0.0, \"Sex\": \"male\"}, {\"Pclass\": 3, \"Survived\": 0.0, \"Sex\": \"male\"}, {\"Pclass\": 3, \"Survived\": 0.0, \"Sex\": \"male\"}, {\"Pclass\": 2, \"Survived\": 0.0, \"Sex\": \"male\"}, {\"Pclass\": 1, \"Survived\": 1.0, \"Sex\": \"female\"}, {\"Pclass\": 3, \"Survived\": 0.0, \"Sex\": \"male\"}, {\"Pclass\": 3, \"Survived\": 0.0, \"Sex\": \"male\"}, {\"Pclass\": 3, \"Survived\": 0.0, \"Sex\": \"female\"}, {\"Pclass\": 1, \"Survived\": 1.0, \"Sex\": \"female\"}, {\"Pclass\": 2, \"Survived\": 0.0, \"Sex\": \"female\"}, {\"Pclass\": 3, \"Survived\": 1.0, \"Sex\": \"female\"}, {\"Pclass\": 1, \"Survived\": 1.0, \"Sex\": \"female\"}, {\"Pclass\": 1, \"Survived\": 1.0, \"Sex\": \"male\"}, {\"Pclass\": 3, \"Survived\": 1.0, \"Sex\": \"female\"}, {\"Pclass\": 3, \"Survived\": 0.0, \"Sex\": \"male\"}, {\"Pclass\": 3, \"Survived\": 0.0, \"Sex\": \"male\"}, {\"Pclass\": 2, \"Survived\": 0.0, \"Sex\": \"male\"}, {\"Pclass\": 1, \"Survived\": 1.0, \"Sex\": \"female\"}, {\"Pclass\": 3, \"Survived\": 0.0, \"Sex\": \"female\"}, {\"Pclass\": 2, \"Survived\": 0.0, \"Sex\": \"male\"}, {\"Pclass\": 2, \"Survived\": 1.0, \"Sex\": \"female\"}, {\"Pclass\": 2, \"Survived\": 1.0, \"Sex\": \"female\"}, {\"Pclass\": 1, \"Survived\": 0.0, \"Sex\": \"male\"}, {\"Pclass\": 3, \"Survived\": 0.0, \"Sex\": \"male\"}, {\"Pclass\": 3, \"Survived\": 1.0, \"Sex\": \"male\"}, {\"Pclass\": 3, \"Survived\": 0.0, \"Sex\": \"male\"}, {\"Pclass\": 1, \"Survived\": 1.0, \"Sex\": \"female\"}, {\"Pclass\": 1, \"Survived\": 0.0, \"Sex\": \"male\"}, {\"Pclass\": 3, \"Survived\": 0.0, \"Sex\": \"male\"}, {\"Pclass\": 2, \"Survived\": 1.0, \"Sex\": \"female\"}, {\"Pclass\": 3, \"Survived\": 1.0, \"Sex\": \"female\"}, {\"Pclass\": 3, \"Survived\": 0.0, \"Sex\": \"male\"}, {\"Pclass\": 3, \"Survived\": 0.0, \"Sex\": \"male\"}, {\"Pclass\": 3, \"Survived\": 0.0, \"Sex\": \"male\"}, {\"Pclass\": 1, \"Survived\": 1.0, \"Sex\": \"female\"}, {\"Pclass\": 2, \"Survived\": 1.0, \"Sex\": \"female\"}, {\"Pclass\": 3, \"Survived\": 0.0, \"Sex\": \"male\"}, {\"Pclass\": 3, \"Survived\": 0.0, \"Sex\": \"female\"}, {\"Pclass\": 2, \"Survived\": 0.0, \"Sex\": \"male\"}, {\"Pclass\": 3, \"Survived\": 0.0, \"Sex\": \"male\"}, {\"Pclass\": 3, \"Survived\": 0.0, \"Sex\": \"female\"}, {\"Pclass\": 2, \"Survived\": 0.0, \"Sex\": \"male\"}, {\"Pclass\": 1, \"Survived\": 1.0, \"Sex\": \"female\"}, {\"Pclass\": 3, \"Survived\": 0.0, \"Sex\": \"female\"}, {\"Pclass\": 1, \"Survived\": 1.0, \"Sex\": \"male\"}, {\"Pclass\": 3, \"Survived\": 0.0, \"Sex\": \"male\"}]}}, {\"mode\": \"vega-lite\"});\n",
       "</script>"
      ],
      "text/plain": [
       "alt.Chart(...)"
      ]
     },
     "execution_count": 68,
     "metadata": {},
     "output_type": "execute_result"
    }
   ],
   "source": [
    "facet_group_countplot(all_df, x=\"Pclass\", group=\"Survived\", facet=\"Sex\", title=\"Survival Rate by Pclass and Sex\")"
   ]
  },
  {
   "cell_type": "markdown",
   "metadata": {},
   "source": [
    "\n",
    "Firstly, in terms of the numbers of passengers per class and their gender split we see that there are more male passengers than female passengers in all 3 classes. However the ratio of male to female are not equal between classes. We see that 1st class has the most equal ratio with only a fraction more male than female, then 2nd class and finally in 3rd class we see a huge disparity between the number of males and females.\n",
    "\n",
    "This as important as general intuition would predict the females 'women and children first' and higher classes would be more likely to survive. A plot that looked only at class or sex vs survival might overestimate the correlation between male or 3rd class and survival due to the confounding effects of having more males in 3rd class.\n",
    "\n",
    "By visualising both class and sex on the same plot we can dig into the joint effects of both variables. For example, we see that on average female passengers are more likely to survive than male passengers. Yet there is not an equal relationshop across classes. Nearly all female passengers in 1st and 2nd class survived, but in 3rd class it is closer to a 50/50 chance of survival. \n",
    "On the male section of the dataset the relationship between class and survival is less clear, although we can conclude that 1st class males are more likely to survive than 2nd and 3rd class males.\n",
    "\n",
    "To account for these joint effects, I would include a joint feature of class and sex. This is an improvement on just selecting sex and class as seperate features as it controls for the joint impacts of class and gender on survival rate as shown most clearly in the female section of the dataset"
   ]
  },
  {
   "cell_type": "markdown",
   "metadata": {},
   "source": [
    "## Family Size and Sex"
   ]
  },
  {
   "cell_type": "code",
   "execution_count": 69,
   "metadata": {},
   "outputs": [],
   "source": [
    "all_df[\"Family Size\"] = calculate_family_size(all_df)"
   ]
  },
  {
   "cell_type": "markdown",
   "metadata": {},
   "source": [
    "Family size is an engineered feature which adds Parents/Children and Spouse/Siblings.\n",
    "\n",
    "From the original analysis, family size clearly had an impact on survival rate. Based on our above plot, it may be that class or sex has interaction effects with family size.\n",
    "\n",
    "Possible interaction with pclass was explored but the results were insignificant. Lets investigate interaction with the Sex feature.\n",
    "First, below is the survival rate split only on sex. We see that females have a 75% chance of survival whereas males have 20."
   ]
  },
  {
   "cell_type": "code",
   "execution_count": 70,
   "metadata": {},
   "outputs": [
    {
     "data": {
      "text/html": [
       "\n",
       "<style>\n",
       "  #altair-viz-d31a2c9deae74d4cbc25e0aeae271ec1.vega-embed {\n",
       "    width: 100%;\n",
       "    display: flex;\n",
       "  }\n",
       "\n",
       "  #altair-viz-d31a2c9deae74d4cbc25e0aeae271ec1.vega-embed details,\n",
       "  #altair-viz-d31a2c9deae74d4cbc25e0aeae271ec1.vega-embed details summary {\n",
       "    position: relative;\n",
       "  }\n",
       "</style>\n",
       "<div id=\"altair-viz-d31a2c9deae74d4cbc25e0aeae271ec1\"></div>\n",
       "<script type=\"text/javascript\">\n",
       "  var VEGA_DEBUG = (typeof VEGA_DEBUG == \"undefined\") ? {} : VEGA_DEBUG;\n",
       "  (function(spec, embedOpt){\n",
       "    let outputDiv = document.currentScript.previousElementSibling;\n",
       "    if (outputDiv.id !== \"altair-viz-d31a2c9deae74d4cbc25e0aeae271ec1\") {\n",
       "      outputDiv = document.getElementById(\"altair-viz-d31a2c9deae74d4cbc25e0aeae271ec1\");\n",
       "    }\n",
       "    const paths = {\n",
       "      \"vega\": \"https://cdn.jsdelivr.net/npm/vega@5?noext\",\n",
       "      \"vega-lib\": \"https://cdn.jsdelivr.net/npm/vega-lib?noext\",\n",
       "      \"vega-lite\": \"https://cdn.jsdelivr.net/npm/vega-lite@5.20.1?noext\",\n",
       "      \"vega-embed\": \"https://cdn.jsdelivr.net/npm/vega-embed@6?noext\",\n",
       "    };\n",
       "\n",
       "    function maybeLoadScript(lib, version) {\n",
       "      var key = `${lib.replace(\"-\", \"\")}_version`;\n",
       "      return (VEGA_DEBUG[key] == version) ?\n",
       "        Promise.resolve(paths[lib]) :\n",
       "        new Promise(function(resolve, reject) {\n",
       "          var s = document.createElement('script');\n",
       "          document.getElementsByTagName(\"head\")[0].appendChild(s);\n",
       "          s.async = true;\n",
       "          s.onload = () => {\n",
       "            VEGA_DEBUG[key] = version;\n",
       "            return resolve(paths[lib]);\n",
       "          };\n",
       "          s.onerror = () => reject(`Error loading script: ${paths[lib]}`);\n",
       "          s.src = paths[lib];\n",
       "        });\n",
       "    }\n",
       "\n",
       "    function showError(err) {\n",
       "      outputDiv.innerHTML = `<div class=\"error\" style=\"color:red;\">${err}</div>`;\n",
       "      throw err;\n",
       "    }\n",
       "\n",
       "    function displayChart(vegaEmbed) {\n",
       "      vegaEmbed(outputDiv, spec, embedOpt)\n",
       "        .catch(err => showError(`Javascript Error: ${err.message}<br>This usually means there's a typo in your chart specification. See the javascript console for the full traceback.`));\n",
       "    }\n",
       "\n",
       "    if(typeof define === \"function\" && define.amd) {\n",
       "      requirejs.config({paths});\n",
       "      require([\"vega-embed\"], displayChart, err => showError(`Error loading script: ${err.message}`));\n",
       "    } else {\n",
       "      maybeLoadScript(\"vega\", \"5\")\n",
       "        .then(() => maybeLoadScript(\"vega-lite\", \"5.20.1\"))\n",
       "        .then(() => maybeLoadScript(\"vega-embed\", \"6\"))\n",
       "        .catch(showError)\n",
       "        .then(() => displayChart(vegaEmbed));\n",
       "    }\n",
       "  })({\"config\": {\"view\": {\"continuousWidth\": 300, \"continuousHeight\": 300}}, \"data\": {\"name\": \"data-e5153a067d8a15cad4663a24f41feee3\"}, \"mark\": {\"type\": \"bar\"}, \"encoding\": {\"color\": {\"field\": \"Survived\", \"scale\": {\"range\": [\"#A5D7E8\", \"#576CBC\", \"#19376D\", \"#0b2447\"]}, \"type\": \"nominal\"}, \"x\": {\"field\": \"Sex\", \"title\": \"Sex\", \"type\": \"nominal\"}, \"y\": {\"axis\": {\"format\": \"%\"}, \"field\": \"Proportion\", \"title\": \"Proportion\", \"type\": \"quantitative\"}}, \"title\": \"Survival Rate by Sex\", \"$schema\": \"https://vega.github.io/schema/vega-lite/v5.20.1.json\", \"datasets\": {\"data-e5153a067d8a15cad4663a24f41feee3\": [{\"Sex\": \"female\", \"Survived\": 0.0, \"Count\": 81, \"Total\": 314, \"Proportion\": 0.25796178343949044}, {\"Sex\": \"female\", \"Survived\": 1.0, \"Count\": 233, \"Total\": 314, \"Proportion\": 0.7420382165605095}, {\"Sex\": \"male\", \"Survived\": 0.0, \"Count\": 468, \"Total\": 577, \"Proportion\": 0.8110918544194108}, {\"Sex\": \"male\", \"Survived\": 1.0, \"Count\": 109, \"Total\": 577, \"Proportion\": 0.18890814558058924}]}}, {\"mode\": \"vega-lite\"});\n",
       "</script>"
      ],
      "text/plain": [
       "alt.Chart(...)"
      ]
     },
     "execution_count": 70,
     "metadata": {},
     "output_type": "execute_result"
    }
   ],
   "source": [
    "proportion_chart(all_df, x=\"Sex\", group=\"Survived\", title=\"Survival Rate by Sex\")"
   ]
  },
  {
   "cell_type": "markdown",
   "metadata": {},
   "source": [
    "Below is the survival rate just by family size we see that single travellers have a 30% chance of survival but small to medium size families have an above even chance of survival. This decreases for larger families."
   ]
  },
  {
   "cell_type": "code",
   "execution_count": 71,
   "metadata": {},
   "outputs": [
    {
     "data": {
      "text/html": [
       "\n",
       "<style>\n",
       "  #altair-viz-878b0d9b1c26450189f8cf4dee50caa9.vega-embed {\n",
       "    width: 100%;\n",
       "    display: flex;\n",
       "  }\n",
       "\n",
       "  #altair-viz-878b0d9b1c26450189f8cf4dee50caa9.vega-embed details,\n",
       "  #altair-viz-878b0d9b1c26450189f8cf4dee50caa9.vega-embed details summary {\n",
       "    position: relative;\n",
       "  }\n",
       "</style>\n",
       "<div id=\"altair-viz-878b0d9b1c26450189f8cf4dee50caa9\"></div>\n",
       "<script type=\"text/javascript\">\n",
       "  var VEGA_DEBUG = (typeof VEGA_DEBUG == \"undefined\") ? {} : VEGA_DEBUG;\n",
       "  (function(spec, embedOpt){\n",
       "    let outputDiv = document.currentScript.previousElementSibling;\n",
       "    if (outputDiv.id !== \"altair-viz-878b0d9b1c26450189f8cf4dee50caa9\") {\n",
       "      outputDiv = document.getElementById(\"altair-viz-878b0d9b1c26450189f8cf4dee50caa9\");\n",
       "    }\n",
       "    const paths = {\n",
       "      \"vega\": \"https://cdn.jsdelivr.net/npm/vega@5?noext\",\n",
       "      \"vega-lib\": \"https://cdn.jsdelivr.net/npm/vega-lib?noext\",\n",
       "      \"vega-lite\": \"https://cdn.jsdelivr.net/npm/vega-lite@5.20.1?noext\",\n",
       "      \"vega-embed\": \"https://cdn.jsdelivr.net/npm/vega-embed@6?noext\",\n",
       "    };\n",
       "\n",
       "    function maybeLoadScript(lib, version) {\n",
       "      var key = `${lib.replace(\"-\", \"\")}_version`;\n",
       "      return (VEGA_DEBUG[key] == version) ?\n",
       "        Promise.resolve(paths[lib]) :\n",
       "        new Promise(function(resolve, reject) {\n",
       "          var s = document.createElement('script');\n",
       "          document.getElementsByTagName(\"head\")[0].appendChild(s);\n",
       "          s.async = true;\n",
       "          s.onload = () => {\n",
       "            VEGA_DEBUG[key] = version;\n",
       "            return resolve(paths[lib]);\n",
       "          };\n",
       "          s.onerror = () => reject(`Error loading script: ${paths[lib]}`);\n",
       "          s.src = paths[lib];\n",
       "        });\n",
       "    }\n",
       "\n",
       "    function showError(err) {\n",
       "      outputDiv.innerHTML = `<div class=\"error\" style=\"color:red;\">${err}</div>`;\n",
       "      throw err;\n",
       "    }\n",
       "\n",
       "    function displayChart(vegaEmbed) {\n",
       "      vegaEmbed(outputDiv, spec, embedOpt)\n",
       "        .catch(err => showError(`Javascript Error: ${err.message}<br>This usually means there's a typo in your chart specification. See the javascript console for the full traceback.`));\n",
       "    }\n",
       "\n",
       "    if(typeof define === \"function\" && define.amd) {\n",
       "      requirejs.config({paths});\n",
       "      require([\"vega-embed\"], displayChart, err => showError(`Error loading script: ${err.message}`));\n",
       "    } else {\n",
       "      maybeLoadScript(\"vega\", \"5\")\n",
       "        .then(() => maybeLoadScript(\"vega-lite\", \"5.20.1\"))\n",
       "        .then(() => maybeLoadScript(\"vega-embed\", \"6\"))\n",
       "        .catch(showError)\n",
       "        .then(() => displayChart(vegaEmbed));\n",
       "    }\n",
       "  })({\"config\": {\"view\": {\"continuousWidth\": 300, \"continuousHeight\": 300}}, \"data\": {\"name\": \"data-8cc26f17b1526bd2aff1d78bf94df066\"}, \"mark\": {\"type\": \"bar\"}, \"encoding\": {\"color\": {\"field\": \"Survived\", \"scale\": {\"range\": [\"#A5D7E8\", \"#576CBC\", \"#19376D\", \"#0b2447\"]}, \"type\": \"nominal\"}, \"x\": {\"field\": \"Family Size\", \"title\": \"Family Size\", \"type\": \"nominal\"}, \"y\": {\"axis\": {\"format\": \"%\"}, \"field\": \"Proportion\", \"title\": \"Proportion\", \"type\": \"quantitative\"}}, \"title\": \"Survival Rate by Family Size\", \"$schema\": \"https://vega.github.io/schema/vega-lite/v5.20.1.json\", \"datasets\": {\"data-8cc26f17b1526bd2aff1d78bf94df066\": [{\"Family Size\": 1, \"Survived\": 0.0, \"Count\": 374, \"Total\": 537, \"Proportion\": 0.6964618249534451}, {\"Family Size\": 1, \"Survived\": 1.0, \"Count\": 163, \"Total\": 537, \"Proportion\": 0.30353817504655495}, {\"Family Size\": 2, \"Survived\": 0.0, \"Count\": 72, \"Total\": 161, \"Proportion\": 0.4472049689440994}, {\"Family Size\": 2, \"Survived\": 1.0, \"Count\": 89, \"Total\": 161, \"Proportion\": 0.5527950310559007}, {\"Family Size\": 3, \"Survived\": 0.0, \"Count\": 43, \"Total\": 102, \"Proportion\": 0.4215686274509804}, {\"Family Size\": 3, \"Survived\": 1.0, \"Count\": 59, \"Total\": 102, \"Proportion\": 0.5784313725490197}, {\"Family Size\": 4, \"Survived\": 0.0, \"Count\": 8, \"Total\": 29, \"Proportion\": 0.27586206896551724}, {\"Family Size\": 4, \"Survived\": 1.0, \"Count\": 21, \"Total\": 29, \"Proportion\": 0.7241379310344828}, {\"Family Size\": 5, \"Survived\": 0.0, \"Count\": 12, \"Total\": 15, \"Proportion\": 0.8}, {\"Family Size\": 5, \"Survived\": 1.0, \"Count\": 3, \"Total\": 15, \"Proportion\": 0.2}, {\"Family Size\": 6, \"Survived\": 0.0, \"Count\": 19, \"Total\": 22, \"Proportion\": 0.8636363636363636}, {\"Family Size\": 6, \"Survived\": 1.0, \"Count\": 3, \"Total\": 22, \"Proportion\": 0.13636363636363635}, {\"Family Size\": 7, \"Survived\": 0.0, \"Count\": 8, \"Total\": 12, \"Proportion\": 0.6666666666666666}, {\"Family Size\": 7, \"Survived\": 1.0, \"Count\": 4, \"Total\": 12, \"Proportion\": 0.3333333333333333}, {\"Family Size\": 8, \"Survived\": 0.0, \"Count\": 6, \"Total\": 6, \"Proportion\": 1.0}, {\"Family Size\": 11, \"Survived\": 0.0, \"Count\": 7, \"Total\": 7, \"Proportion\": 1.0}]}}, {\"mode\": \"vega-lite\"});\n",
       "</script>"
      ],
      "text/plain": [
       "alt.Chart(...)"
      ]
     },
     "execution_count": 71,
     "metadata": {},
     "output_type": "execute_result"
    }
   ],
   "source": [
    "proportion_chart(all_df, x=\"Family Size\", group=\"Survived\", title=\"Survival Rate by Family Size\")"
   ]
  },
  {
   "cell_type": "code",
   "execution_count": 72,
   "metadata": {},
   "outputs": [
    {
     "data": {
      "text/html": [
       "\n",
       "<style>\n",
       "  #altair-viz-6f71fc5e60a74cd1af91e6bbf5e133a5.vega-embed {\n",
       "    width: 100%;\n",
       "    display: flex;\n",
       "  }\n",
       "\n",
       "  #altair-viz-6f71fc5e60a74cd1af91e6bbf5e133a5.vega-embed details,\n",
       "  #altair-viz-6f71fc5e60a74cd1af91e6bbf5e133a5.vega-embed details summary {\n",
       "    position: relative;\n",
       "  }\n",
       "</style>\n",
       "<div id=\"altair-viz-6f71fc5e60a74cd1af91e6bbf5e133a5\"></div>\n",
       "<script type=\"text/javascript\">\n",
       "  var VEGA_DEBUG = (typeof VEGA_DEBUG == \"undefined\") ? {} : VEGA_DEBUG;\n",
       "  (function(spec, embedOpt){\n",
       "    let outputDiv = document.currentScript.previousElementSibling;\n",
       "    if (outputDiv.id !== \"altair-viz-6f71fc5e60a74cd1af91e6bbf5e133a5\") {\n",
       "      outputDiv = document.getElementById(\"altair-viz-6f71fc5e60a74cd1af91e6bbf5e133a5\");\n",
       "    }\n",
       "    const paths = {\n",
       "      \"vega\": \"https://cdn.jsdelivr.net/npm/vega@5?noext\",\n",
       "      \"vega-lib\": \"https://cdn.jsdelivr.net/npm/vega-lib?noext\",\n",
       "      \"vega-lite\": \"https://cdn.jsdelivr.net/npm/vega-lite@5.20.1?noext\",\n",
       "      \"vega-embed\": \"https://cdn.jsdelivr.net/npm/vega-embed@6?noext\",\n",
       "    };\n",
       "\n",
       "    function maybeLoadScript(lib, version) {\n",
       "      var key = `${lib.replace(\"-\", \"\")}_version`;\n",
       "      return (VEGA_DEBUG[key] == version) ?\n",
       "        Promise.resolve(paths[lib]) :\n",
       "        new Promise(function(resolve, reject) {\n",
       "          var s = document.createElement('script');\n",
       "          document.getElementsByTagName(\"head\")[0].appendChild(s);\n",
       "          s.async = true;\n",
       "          s.onload = () => {\n",
       "            VEGA_DEBUG[key] = version;\n",
       "            return resolve(paths[lib]);\n",
       "          };\n",
       "          s.onerror = () => reject(`Error loading script: ${paths[lib]}`);\n",
       "          s.src = paths[lib];\n",
       "        });\n",
       "    }\n",
       "\n",
       "    function showError(err) {\n",
       "      outputDiv.innerHTML = `<div class=\"error\" style=\"color:red;\">${err}</div>`;\n",
       "      throw err;\n",
       "    }\n",
       "\n",
       "    function displayChart(vegaEmbed) {\n",
       "      vegaEmbed(outputDiv, spec, embedOpt)\n",
       "        .catch(err => showError(`Javascript Error: ${err.message}<br>This usually means there's a typo in your chart specification. See the javascript console for the full traceback.`));\n",
       "    }\n",
       "\n",
       "    if(typeof define === \"function\" && define.amd) {\n",
       "      requirejs.config({paths});\n",
       "      require([\"vega-embed\"], displayChart, err => showError(`Error loading script: ${err.message}`));\n",
       "    } else {\n",
       "      maybeLoadScript(\"vega\", \"5\")\n",
       "        .then(() => maybeLoadScript(\"vega-lite\", \"5.20.1\"))\n",
       "        .then(() => maybeLoadScript(\"vega-embed\", \"6\"))\n",
       "        .catch(showError)\n",
       "        .then(() => displayChart(vegaEmbed));\n",
       "    }\n",
       "  })({\"config\": {\"view\": {\"continuousWidth\": 300, \"continuousHeight\": 300}}, \"data\": {\"name\": \"data-aa775902495735824055aff8dd19ab7e\"}, \"mark\": {\"type\": \"bar\"}, \"encoding\": {\"color\": {\"field\": \"Survived\", \"scale\": {\"range\": [\"#A5D7E8\", \"#576CBC\", \"#19376D\", \"#0b2447\"]}, \"type\": \"nominal\"}, \"column\": {\"field\": \"Sex\", \"title\": \"Sex\", \"type\": \"nominal\"}, \"x\": {\"field\": \"Family Size\", \"title\": \"Family Size\", \"type\": \"nominal\"}, \"y\": {\"axis\": {\"format\": \"%\"}, \"field\": \"Proportion\", \"title\": \"Proportion\", \"type\": \"quantitative\"}}, \"title\": \"Survival Rate by Family Size and Sex\", \"$schema\": \"https://vega.github.io/schema/vega-lite/v5.20.1.json\", \"datasets\": {\"data-aa775902495735824055aff8dd19ab7e\": [{\"Family Size\": 1, \"Sex\": \"female\", \"Survived\": 0.0, \"Count\": 27, \"Total\": 126, \"Proportion\": 0.21428571428571427}, {\"Family Size\": 1, \"Sex\": \"female\", \"Survived\": 1.0, \"Count\": 99, \"Total\": 126, \"Proportion\": 0.7857142857142857}, {\"Family Size\": 1, \"Sex\": \"male\", \"Survived\": 0.0, \"Count\": 347, \"Total\": 411, \"Proportion\": 0.8442822384428224}, {\"Family Size\": 1, \"Sex\": \"male\", \"Survived\": 1.0, \"Count\": 64, \"Total\": 411, \"Proportion\": 0.15571776155717762}, {\"Family Size\": 2, \"Sex\": \"female\", \"Survived\": 0.0, \"Count\": 16, \"Total\": 87, \"Proportion\": 0.1839080459770115}, {\"Family Size\": 2, \"Sex\": \"female\", \"Survived\": 1.0, \"Count\": 71, \"Total\": 87, \"Proportion\": 0.8160919540229885}, {\"Family Size\": 2, \"Sex\": \"male\", \"Survived\": 0.0, \"Count\": 56, \"Total\": 74, \"Proportion\": 0.7567567567567568}, {\"Family Size\": 2, \"Sex\": \"male\", \"Survived\": 1.0, \"Count\": 18, \"Total\": 74, \"Proportion\": 0.24324324324324326}, {\"Family Size\": 3, \"Sex\": \"female\", \"Survived\": 0.0, \"Count\": 11, \"Total\": 49, \"Proportion\": 0.22448979591836735}, {\"Family Size\": 3, \"Sex\": \"female\", \"Survived\": 1.0, \"Count\": 38, \"Total\": 49, \"Proportion\": 0.7755102040816326}, {\"Family Size\": 3, \"Sex\": \"male\", \"Survived\": 0.0, \"Count\": 32, \"Total\": 53, \"Proportion\": 0.6037735849056604}, {\"Family Size\": 3, \"Sex\": \"male\", \"Survived\": 1.0, \"Count\": 21, \"Total\": 53, \"Proportion\": 0.39622641509433965}, {\"Family Size\": 4, \"Sex\": \"female\", \"Survived\": 0.0, \"Count\": 3, \"Total\": 19, \"Proportion\": 0.15789473684210525}, {\"Family Size\": 4, \"Sex\": \"female\", \"Survived\": 1.0, \"Count\": 16, \"Total\": 19, \"Proportion\": 0.8421052631578947}, {\"Family Size\": 4, \"Sex\": \"male\", \"Survived\": 0.0, \"Count\": 5, \"Total\": 10, \"Proportion\": 0.5}, {\"Family Size\": 4, \"Sex\": \"male\", \"Survived\": 1.0, \"Count\": 5, \"Total\": 10, \"Proportion\": 0.5}, {\"Family Size\": 5, \"Sex\": \"female\", \"Survived\": 0.0, \"Count\": 9, \"Total\": 12, \"Proportion\": 0.75}, {\"Family Size\": 5, \"Sex\": \"female\", \"Survived\": 1.0, \"Count\": 3, \"Total\": 12, \"Proportion\": 0.25}, {\"Family Size\": 5, \"Sex\": \"male\", \"Survived\": 0.0, \"Count\": 3, \"Total\": 3, \"Proportion\": 1.0}, {\"Family Size\": 6, \"Sex\": \"female\", \"Survived\": 0.0, \"Count\": 5, \"Total\": 8, \"Proportion\": 0.625}, {\"Family Size\": 6, \"Sex\": \"female\", \"Survived\": 1.0, \"Count\": 3, \"Total\": 8, \"Proportion\": 0.375}, {\"Family Size\": 6, \"Sex\": \"male\", \"Survived\": 0.0, \"Count\": 14, \"Total\": 14, \"Proportion\": 1.0}, {\"Family Size\": 7, \"Sex\": \"female\", \"Survived\": 0.0, \"Count\": 5, \"Total\": 8, \"Proportion\": 0.625}, {\"Family Size\": 7, \"Sex\": \"female\", \"Survived\": 1.0, \"Count\": 3, \"Total\": 8, \"Proportion\": 0.375}, {\"Family Size\": 7, \"Sex\": \"male\", \"Survived\": 0.0, \"Count\": 3, \"Total\": 4, \"Proportion\": 0.75}, {\"Family Size\": 7, \"Sex\": \"male\", \"Survived\": 1.0, \"Count\": 1, \"Total\": 4, \"Proportion\": 0.25}, {\"Family Size\": 8, \"Sex\": \"female\", \"Survived\": 0.0, \"Count\": 2, \"Total\": 2, \"Proportion\": 1.0}, {\"Family Size\": 8, \"Sex\": \"male\", \"Survived\": 0.0, \"Count\": 4, \"Total\": 4, \"Proportion\": 1.0}, {\"Family Size\": 11, \"Sex\": \"female\", \"Survived\": 0.0, \"Count\": 3, \"Total\": 3, \"Proportion\": 1.0}, {\"Family Size\": 11, \"Sex\": \"male\", \"Survived\": 0.0, \"Count\": 4, \"Total\": 4, \"Proportion\": 1.0}]}}, {\"mode\": \"vega-lite\"});\n",
       "</script>"
      ],
      "text/plain": [
       "alt.Chart(...)"
      ]
     },
     "execution_count": 72,
     "metadata": {},
     "output_type": "execute_result"
    }
   ],
   "source": [
    "barchart_proportions(all_df, x=\"Family Size\", group=\"Survived\", facet=\"Sex\", title=\"Survival Rate by Family Size and Sex\")"
   ]
  },
  {
   "cell_type": "markdown",
   "metadata": {},
   "source": [
    "Recall that the average survival rate for women was 70%. We see that for family size up to 4 the survival chance for females is slightly higher than this average. \n",
    "\n",
    "Additionally, recall that the average survival rate for men was 20%. We see that single men have a lower than average chance of survival, but men with small to medium families have a higher than average survival rate.\n",
    "\n",
    "This motivates the inclusion of an interaction term between Sex and Family Size. Family size has an impact on survival chances for both male and female but\n",
    "its impact is not constant between Sex. In particular categorising family size into categories for 'small medium family' and 'large family' will show differences between families and single travelers."
   ]
  },
  {
   "cell_type": "markdown",
   "metadata": {},
   "source": [
    "## Conclusion\n",
    "\n",
    "I have showcased evidence for the inclusion of interaction terms between Sex and Pclass and Family Size and Sex. Furthermore I recommend that Family Size be categorised into singles, small-medium family, and large family. Evidence of interaction between Pclass and Family Size was investigated (not shown) but deemed to be insignificant"
   ]
  }
 ],
 "metadata": {
  "kernelspec": {
   "display_name": "titanic_project",
   "language": "python",
   "name": "python3"
  },
  "language_info": {
   "codemirror_mode": {
    "name": "ipython",
    "version": 3
   },
   "file_extension": ".py",
   "mimetype": "text/x-python",
   "name": "python",
   "nbconvert_exporter": "python",
   "pygments_lexer": "ipython3",
   "version": "3.9.20"
  }
 },
 "nbformat": 4,
 "nbformat_minor": 2
}
